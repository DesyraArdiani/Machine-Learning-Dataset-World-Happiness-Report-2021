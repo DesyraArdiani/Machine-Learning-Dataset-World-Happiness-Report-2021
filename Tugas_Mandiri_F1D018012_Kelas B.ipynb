{
 "cells": [
  {
   "cell_type": "markdown",
   "metadata": {},
   "source": [
    "Nama : Desyra Ardiani <br>\n",
    "Kelas : B <br>\n",
    "NIM : F1D018012 <br>\n",
    "\n",
    "Dataset : https://www.kaggle.com/ajaypalsinghlo/world-happiness-report-2021\n",
    "\n",
    "<a id=\"read-data\"></a>\n",
    "# UTS_Tugas Mandiri Mata Kuliah Machine Learning"
   ]
  },
  {
   "cell_type": "markdown",
   "metadata": {},
   "source": [
    "Carilah dataset real, bebas dari internet dengan ketentuan sbb:\n",
    "\n",
    "Jumlah total atribut lebih dari 5 <br>\n",
    "Minimal jumlah data adalah 100 data <br>\n",
    "Dapat digunakan untuk pemodelan Regresi <br>\n",
    "\n",
    "Kemudian, lakukan beberapa hal berikut:\n",
    "\n",
    "1. Tentukan variable dependent dan independent dari dataset\n",
    "2. Lakukan eksplorasi dan visualisasi data\n",
    "3. Lakukan data analisis dan juga pengecekan serta pembersihan data dari outlier dan missing data jika diperlukan\n",
    "4. Lakukan pemodelan regresi (linear dan berganda) dan seleksi fitur dengan korelasi agar mendapatkan atribut (variable independent) yang baik untuk digunakan pada model regresi\n",
    "5. Analisa dan jelaskan hasil evaluasi pemodelan regresi\n",
    "6. Lakukan pemodelan dengan regresi logistik dengan data yang sama dengan cara mentransformasikan variable dependent yang awalnya bernilai continue menjadi categorical (hint: Gunakan Binning Data in Pandas). Contoh: variable dependent harga mobil (bernilai continue) ditransformasikan menjadi harga model Mahal dan Murah (untuk 2 kelas), dan Mahal, Sedang, Murah (untuk 3 kelas)\n",
    "7. Analisa dan jelaskan hasil evaluasi pemodelan regresi logistik\n"
   ]
  },
  {
   "cell_type": "code",
   "execution_count": 1,
   "metadata": {},
   "outputs": [],
   "source": [
    "import pandas as pd\n",
    "import numpy as np"
   ]
  },
  {
   "cell_type": "code",
   "execution_count": 2,
   "metadata": {},
   "outputs": [
    {
     "data": {
      "text/html": [
       "<div>\n",
       "<style scoped>\n",
       "    .dataframe tbody tr th:only-of-type {\n",
       "        vertical-align: middle;\n",
       "    }\n",
       "\n",
       "    .dataframe tbody tr th {\n",
       "        vertical-align: top;\n",
       "    }\n",
       "\n",
       "    .dataframe thead th {\n",
       "        text-align: right;\n",
       "    }\n",
       "</style>\n",
       "<table border=\"1\" class=\"dataframe\">\n",
       "  <thead>\n",
       "    <tr style=\"text-align: right;\">\n",
       "      <th></th>\n",
       "      <th>Country name</th>\n",
       "      <th>Regional indicator</th>\n",
       "      <th>Ladder score</th>\n",
       "      <th>Standard error of ladder score</th>\n",
       "      <th>upperwhisker</th>\n",
       "      <th>lowerwhisker</th>\n",
       "      <th>Logged GDP per capita</th>\n",
       "      <th>Social support</th>\n",
       "      <th>Healthy life expectancy</th>\n",
       "      <th>Freedom to make life choices</th>\n",
       "      <th>Generosity</th>\n",
       "      <th>Perceptions of corruption</th>\n",
       "      <th>Ladder score in Dystopia</th>\n",
       "      <th>Explained by: Log GDP per capita</th>\n",
       "      <th>Explained by: Social support</th>\n",
       "      <th>Explained by: Healthy life expectancy</th>\n",
       "      <th>Explained by: Freedom to make life choices</th>\n",
       "      <th>Explained by: Generosity</th>\n",
       "      <th>Explained by: Perceptions of corruption</th>\n",
       "      <th>Dystopia + residual</th>\n",
       "    </tr>\n",
       "  </thead>\n",
       "  <tbody>\n",
       "    <tr>\n",
       "      <td>0</td>\n",
       "      <td>Finland</td>\n",
       "      <td>Western Europe</td>\n",
       "      <td>7.842</td>\n",
       "      <td>0.032</td>\n",
       "      <td>7.904</td>\n",
       "      <td>7.780</td>\n",
       "      <td>10.775</td>\n",
       "      <td>0.954</td>\n",
       "      <td>72.000</td>\n",
       "      <td>0.949</td>\n",
       "      <td>-0.098</td>\n",
       "      <td>0.186</td>\n",
       "      <td>2.43</td>\n",
       "      <td>1.446</td>\n",
       "      <td>1.106</td>\n",
       "      <td>0.741</td>\n",
       "      <td>0.691</td>\n",
       "      <td>0.124</td>\n",
       "      <td>0.481</td>\n",
       "      <td>3.253</td>\n",
       "    </tr>\n",
       "    <tr>\n",
       "      <td>1</td>\n",
       "      <td>Denmark</td>\n",
       "      <td>Western Europe</td>\n",
       "      <td>7.620</td>\n",
       "      <td>0.035</td>\n",
       "      <td>7.687</td>\n",
       "      <td>7.552</td>\n",
       "      <td>10.933</td>\n",
       "      <td>0.954</td>\n",
       "      <td>72.700</td>\n",
       "      <td>0.946</td>\n",
       "      <td>0.030</td>\n",
       "      <td>0.179</td>\n",
       "      <td>2.43</td>\n",
       "      <td>1.502</td>\n",
       "      <td>1.108</td>\n",
       "      <td>0.763</td>\n",
       "      <td>0.686</td>\n",
       "      <td>0.208</td>\n",
       "      <td>0.485</td>\n",
       "      <td>2.868</td>\n",
       "    </tr>\n",
       "    <tr>\n",
       "      <td>2</td>\n",
       "      <td>Switzerland</td>\n",
       "      <td>Western Europe</td>\n",
       "      <td>7.571</td>\n",
       "      <td>0.036</td>\n",
       "      <td>7.643</td>\n",
       "      <td>7.500</td>\n",
       "      <td>11.117</td>\n",
       "      <td>0.942</td>\n",
       "      <td>74.400</td>\n",
       "      <td>0.919</td>\n",
       "      <td>0.025</td>\n",
       "      <td>0.292</td>\n",
       "      <td>2.43</td>\n",
       "      <td>1.566</td>\n",
       "      <td>1.079</td>\n",
       "      <td>0.816</td>\n",
       "      <td>0.653</td>\n",
       "      <td>0.204</td>\n",
       "      <td>0.413</td>\n",
       "      <td>2.839</td>\n",
       "    </tr>\n",
       "    <tr>\n",
       "      <td>3</td>\n",
       "      <td>Iceland</td>\n",
       "      <td>Western Europe</td>\n",
       "      <td>7.554</td>\n",
       "      <td>0.059</td>\n",
       "      <td>7.670</td>\n",
       "      <td>7.438</td>\n",
       "      <td>10.878</td>\n",
       "      <td>0.983</td>\n",
       "      <td>73.000</td>\n",
       "      <td>0.955</td>\n",
       "      <td>0.160</td>\n",
       "      <td>0.673</td>\n",
       "      <td>2.43</td>\n",
       "      <td>1.482</td>\n",
       "      <td>1.172</td>\n",
       "      <td>0.772</td>\n",
       "      <td>0.698</td>\n",
       "      <td>0.293</td>\n",
       "      <td>0.170</td>\n",
       "      <td>2.967</td>\n",
       "    </tr>\n",
       "    <tr>\n",
       "      <td>4</td>\n",
       "      <td>Netherlands</td>\n",
       "      <td>Western Europe</td>\n",
       "      <td>7.464</td>\n",
       "      <td>0.027</td>\n",
       "      <td>7.518</td>\n",
       "      <td>7.410</td>\n",
       "      <td>10.932</td>\n",
       "      <td>0.942</td>\n",
       "      <td>72.400</td>\n",
       "      <td>0.913</td>\n",
       "      <td>0.175</td>\n",
       "      <td>0.338</td>\n",
       "      <td>2.43</td>\n",
       "      <td>1.501</td>\n",
       "      <td>1.079</td>\n",
       "      <td>0.753</td>\n",
       "      <td>0.647</td>\n",
       "      <td>0.302</td>\n",
       "      <td>0.384</td>\n",
       "      <td>2.798</td>\n",
       "    </tr>\n",
       "    <tr>\n",
       "      <td>...</td>\n",
       "      <td>...</td>\n",
       "      <td>...</td>\n",
       "      <td>...</td>\n",
       "      <td>...</td>\n",
       "      <td>...</td>\n",
       "      <td>...</td>\n",
       "      <td>...</td>\n",
       "      <td>...</td>\n",
       "      <td>...</td>\n",
       "      <td>...</td>\n",
       "      <td>...</td>\n",
       "      <td>...</td>\n",
       "      <td>...</td>\n",
       "      <td>...</td>\n",
       "      <td>...</td>\n",
       "      <td>...</td>\n",
       "      <td>...</td>\n",
       "      <td>...</td>\n",
       "      <td>...</td>\n",
       "      <td>...</td>\n",
       "    </tr>\n",
       "    <tr>\n",
       "      <td>144</td>\n",
       "      <td>Lesotho</td>\n",
       "      <td>Sub-Saharan Africa</td>\n",
       "      <td>3.512</td>\n",
       "      <td>0.120</td>\n",
       "      <td>3.748</td>\n",
       "      <td>3.276</td>\n",
       "      <td>7.926</td>\n",
       "      <td>0.787</td>\n",
       "      <td>48.700</td>\n",
       "      <td>0.715</td>\n",
       "      <td>-0.131</td>\n",
       "      <td>0.915</td>\n",
       "      <td>2.43</td>\n",
       "      <td>0.451</td>\n",
       "      <td>0.731</td>\n",
       "      <td>0.007</td>\n",
       "      <td>0.405</td>\n",
       "      <td>0.103</td>\n",
       "      <td>0.015</td>\n",
       "      <td>1.800</td>\n",
       "    </tr>\n",
       "    <tr>\n",
       "      <td>145</td>\n",
       "      <td>Botswana</td>\n",
       "      <td>Sub-Saharan Africa</td>\n",
       "      <td>3.467</td>\n",
       "      <td>0.074</td>\n",
       "      <td>3.611</td>\n",
       "      <td>3.322</td>\n",
       "      <td>9.782</td>\n",
       "      <td>0.784</td>\n",
       "      <td>59.269</td>\n",
       "      <td>0.824</td>\n",
       "      <td>-0.246</td>\n",
       "      <td>0.801</td>\n",
       "      <td>2.43</td>\n",
       "      <td>1.099</td>\n",
       "      <td>0.724</td>\n",
       "      <td>0.340</td>\n",
       "      <td>0.539</td>\n",
       "      <td>0.027</td>\n",
       "      <td>0.088</td>\n",
       "      <td>0.648</td>\n",
       "    </tr>\n",
       "    <tr>\n",
       "      <td>146</td>\n",
       "      <td>Rwanda</td>\n",
       "      <td>Sub-Saharan Africa</td>\n",
       "      <td>3.415</td>\n",
       "      <td>0.068</td>\n",
       "      <td>3.548</td>\n",
       "      <td>3.282</td>\n",
       "      <td>7.676</td>\n",
       "      <td>0.552</td>\n",
       "      <td>61.400</td>\n",
       "      <td>0.897</td>\n",
       "      <td>0.061</td>\n",
       "      <td>0.167</td>\n",
       "      <td>2.43</td>\n",
       "      <td>0.364</td>\n",
       "      <td>0.202</td>\n",
       "      <td>0.407</td>\n",
       "      <td>0.627</td>\n",
       "      <td>0.227</td>\n",
       "      <td>0.493</td>\n",
       "      <td>1.095</td>\n",
       "    </tr>\n",
       "    <tr>\n",
       "      <td>147</td>\n",
       "      <td>Zimbabwe</td>\n",
       "      <td>Sub-Saharan Africa</td>\n",
       "      <td>3.145</td>\n",
       "      <td>0.058</td>\n",
       "      <td>3.259</td>\n",
       "      <td>3.030</td>\n",
       "      <td>7.943</td>\n",
       "      <td>0.750</td>\n",
       "      <td>56.201</td>\n",
       "      <td>0.677</td>\n",
       "      <td>-0.047</td>\n",
       "      <td>0.821</td>\n",
       "      <td>2.43</td>\n",
       "      <td>0.457</td>\n",
       "      <td>0.649</td>\n",
       "      <td>0.243</td>\n",
       "      <td>0.359</td>\n",
       "      <td>0.157</td>\n",
       "      <td>0.075</td>\n",
       "      <td>1.205</td>\n",
       "    </tr>\n",
       "    <tr>\n",
       "      <td>148</td>\n",
       "      <td>Afghanistan</td>\n",
       "      <td>South Asia</td>\n",
       "      <td>2.523</td>\n",
       "      <td>0.038</td>\n",
       "      <td>2.596</td>\n",
       "      <td>2.449</td>\n",
       "      <td>7.695</td>\n",
       "      <td>0.463</td>\n",
       "      <td>52.493</td>\n",
       "      <td>0.382</td>\n",
       "      <td>-0.102</td>\n",
       "      <td>0.924</td>\n",
       "      <td>2.43</td>\n",
       "      <td>0.370</td>\n",
       "      <td>0.000</td>\n",
       "      <td>0.126</td>\n",
       "      <td>0.000</td>\n",
       "      <td>0.122</td>\n",
       "      <td>0.010</td>\n",
       "      <td>1.895</td>\n",
       "    </tr>\n",
       "  </tbody>\n",
       "</table>\n",
       "<p>149 rows × 20 columns</p>\n",
       "</div>"
      ],
      "text/plain": [
       "    Country name  Regional indicator  Ladder score  \\\n",
       "0        Finland      Western Europe         7.842   \n",
       "1        Denmark      Western Europe         7.620   \n",
       "2    Switzerland      Western Europe         7.571   \n",
       "3        Iceland      Western Europe         7.554   \n",
       "4    Netherlands      Western Europe         7.464   \n",
       "..           ...                 ...           ...   \n",
       "144      Lesotho  Sub-Saharan Africa         3.512   \n",
       "145     Botswana  Sub-Saharan Africa         3.467   \n",
       "146       Rwanda  Sub-Saharan Africa         3.415   \n",
       "147     Zimbabwe  Sub-Saharan Africa         3.145   \n",
       "148  Afghanistan          South Asia         2.523   \n",
       "\n",
       "     Standard error of ladder score  upperwhisker  lowerwhisker  \\\n",
       "0                             0.032         7.904         7.780   \n",
       "1                             0.035         7.687         7.552   \n",
       "2                             0.036         7.643         7.500   \n",
       "3                             0.059         7.670         7.438   \n",
       "4                             0.027         7.518         7.410   \n",
       "..                              ...           ...           ...   \n",
       "144                           0.120         3.748         3.276   \n",
       "145                           0.074         3.611         3.322   \n",
       "146                           0.068         3.548         3.282   \n",
       "147                           0.058         3.259         3.030   \n",
       "148                           0.038         2.596         2.449   \n",
       "\n",
       "     Logged GDP per capita  Social support  Healthy life expectancy  \\\n",
       "0                   10.775           0.954                   72.000   \n",
       "1                   10.933           0.954                   72.700   \n",
       "2                   11.117           0.942                   74.400   \n",
       "3                   10.878           0.983                   73.000   \n",
       "4                   10.932           0.942                   72.400   \n",
       "..                     ...             ...                      ...   \n",
       "144                  7.926           0.787                   48.700   \n",
       "145                  9.782           0.784                   59.269   \n",
       "146                  7.676           0.552                   61.400   \n",
       "147                  7.943           0.750                   56.201   \n",
       "148                  7.695           0.463                   52.493   \n",
       "\n",
       "     Freedom to make life choices  Generosity  Perceptions of corruption  \\\n",
       "0                           0.949      -0.098                      0.186   \n",
       "1                           0.946       0.030                      0.179   \n",
       "2                           0.919       0.025                      0.292   \n",
       "3                           0.955       0.160                      0.673   \n",
       "4                           0.913       0.175                      0.338   \n",
       "..                            ...         ...                        ...   \n",
       "144                         0.715      -0.131                      0.915   \n",
       "145                         0.824      -0.246                      0.801   \n",
       "146                         0.897       0.061                      0.167   \n",
       "147                         0.677      -0.047                      0.821   \n",
       "148                         0.382      -0.102                      0.924   \n",
       "\n",
       "     Ladder score in Dystopia  Explained by: Log GDP per capita  \\\n",
       "0                        2.43                             1.446   \n",
       "1                        2.43                             1.502   \n",
       "2                        2.43                             1.566   \n",
       "3                        2.43                             1.482   \n",
       "4                        2.43                             1.501   \n",
       "..                        ...                               ...   \n",
       "144                      2.43                             0.451   \n",
       "145                      2.43                             1.099   \n",
       "146                      2.43                             0.364   \n",
       "147                      2.43                             0.457   \n",
       "148                      2.43                             0.370   \n",
       "\n",
       "     Explained by: Social support  Explained by: Healthy life expectancy  \\\n",
       "0                           1.106                                  0.741   \n",
       "1                           1.108                                  0.763   \n",
       "2                           1.079                                  0.816   \n",
       "3                           1.172                                  0.772   \n",
       "4                           1.079                                  0.753   \n",
       "..                            ...                                    ...   \n",
       "144                         0.731                                  0.007   \n",
       "145                         0.724                                  0.340   \n",
       "146                         0.202                                  0.407   \n",
       "147                         0.649                                  0.243   \n",
       "148                         0.000                                  0.126   \n",
       "\n",
       "     Explained by: Freedom to make life choices  Explained by: Generosity  \\\n",
       "0                                         0.691                     0.124   \n",
       "1                                         0.686                     0.208   \n",
       "2                                         0.653                     0.204   \n",
       "3                                         0.698                     0.293   \n",
       "4                                         0.647                     0.302   \n",
       "..                                          ...                       ...   \n",
       "144                                       0.405                     0.103   \n",
       "145                                       0.539                     0.027   \n",
       "146                                       0.627                     0.227   \n",
       "147                                       0.359                     0.157   \n",
       "148                                       0.000                     0.122   \n",
       "\n",
       "     Explained by: Perceptions of corruption  Dystopia + residual  \n",
       "0                                      0.481                3.253  \n",
       "1                                      0.485                2.868  \n",
       "2                                      0.413                2.839  \n",
       "3                                      0.170                2.967  \n",
       "4                                      0.384                2.798  \n",
       "..                                       ...                  ...  \n",
       "144                                    0.015                1.800  \n",
       "145                                    0.088                0.648  \n",
       "146                                    0.493                1.095  \n",
       "147                                    0.075                1.205  \n",
       "148                                    0.010                1.895  \n",
       "\n",
       "[149 rows x 20 columns]"
      ]
     },
     "execution_count": 2,
     "metadata": {},
     "output_type": "execute_result"
    }
   ],
   "source": [
    "#Read csv file from local source\n",
    "csv_path = \"world-happiness-report-2021.csv\"\n",
    "hapiness_df = pd.read_csv(csv_path)\n",
    "hapiness_df\n",
    "#hapiness_df.head()"
   ]
  },
  {
   "cell_type": "markdown",
   "metadata": {},
   "source": [
    "# 1. Tentukan variable dependent dan independent dari dataset\n",
    "\n",
    "1. Dependent : Ladder Score\n",
    "2. Independen : Logged GDP per capita, Social support, Healthy life expectancy, Freedom to make life choices, Generosity, Perceptions of corruption"
   ]
  },
  {
   "cell_type": "markdown",
   "metadata": {},
   "source": [
    "# 2. Lakukan eksplorasi dan visualisasi data\n",
    "1. Eksplorasi untuk mempelajari karakteristik dari data tersebut. "
   ]
  },
  {
   "cell_type": "code",
   "execution_count": 3,
   "metadata": {},
   "outputs": [
    {
     "data": {
      "text/html": [
       "<div>\n",
       "<style scoped>\n",
       "    .dataframe tbody tr th:only-of-type {\n",
       "        vertical-align: middle;\n",
       "    }\n",
       "\n",
       "    .dataframe tbody tr th {\n",
       "        vertical-align: top;\n",
       "    }\n",
       "\n",
       "    .dataframe thead th {\n",
       "        text-align: right;\n",
       "    }\n",
       "</style>\n",
       "<table border=\"1\" class=\"dataframe\">\n",
       "  <thead>\n",
       "    <tr style=\"text-align: right;\">\n",
       "      <th></th>\n",
       "      <th>Country name</th>\n",
       "      <th>Regional indicator</th>\n",
       "      <th>Ladder score</th>\n",
       "      <th>Standard error of ladder score</th>\n",
       "      <th>upperwhisker</th>\n",
       "      <th>lowerwhisker</th>\n",
       "      <th>Logged GDP per capita</th>\n",
       "      <th>Social support</th>\n",
       "      <th>Healthy life expectancy</th>\n",
       "      <th>Freedom to make life choices</th>\n",
       "      <th>Generosity</th>\n",
       "      <th>Perceptions of corruption</th>\n",
       "      <th>Ladder score in Dystopia</th>\n",
       "      <th>Explained by: Log GDP per capita</th>\n",
       "      <th>Explained by: Social support</th>\n",
       "      <th>Explained by: Healthy life expectancy</th>\n",
       "      <th>Explained by: Freedom to make life choices</th>\n",
       "      <th>Explained by: Generosity</th>\n",
       "      <th>Explained by: Perceptions of corruption</th>\n",
       "      <th>Dystopia + residual</th>\n",
       "    </tr>\n",
       "  </thead>\n",
       "  <tbody>\n",
       "    <tr>\n",
       "      <td>0</td>\n",
       "      <td>Finland</td>\n",
       "      <td>Western Europe</td>\n",
       "      <td>7.842</td>\n",
       "      <td>0.032</td>\n",
       "      <td>7.904</td>\n",
       "      <td>7.780</td>\n",
       "      <td>10.775</td>\n",
       "      <td>0.954</td>\n",
       "      <td>72.0</td>\n",
       "      <td>0.949</td>\n",
       "      <td>-0.098</td>\n",
       "      <td>0.186</td>\n",
       "      <td>2.43</td>\n",
       "      <td>1.446</td>\n",
       "      <td>1.106</td>\n",
       "      <td>0.741</td>\n",
       "      <td>0.691</td>\n",
       "      <td>0.124</td>\n",
       "      <td>0.481</td>\n",
       "      <td>3.253</td>\n",
       "    </tr>\n",
       "    <tr>\n",
       "      <td>1</td>\n",
       "      <td>Denmark</td>\n",
       "      <td>Western Europe</td>\n",
       "      <td>7.620</td>\n",
       "      <td>0.035</td>\n",
       "      <td>7.687</td>\n",
       "      <td>7.552</td>\n",
       "      <td>10.933</td>\n",
       "      <td>0.954</td>\n",
       "      <td>72.7</td>\n",
       "      <td>0.946</td>\n",
       "      <td>0.030</td>\n",
       "      <td>0.179</td>\n",
       "      <td>2.43</td>\n",
       "      <td>1.502</td>\n",
       "      <td>1.108</td>\n",
       "      <td>0.763</td>\n",
       "      <td>0.686</td>\n",
       "      <td>0.208</td>\n",
       "      <td>0.485</td>\n",
       "      <td>2.868</td>\n",
       "    </tr>\n",
       "    <tr>\n",
       "      <td>2</td>\n",
       "      <td>Switzerland</td>\n",
       "      <td>Western Europe</td>\n",
       "      <td>7.571</td>\n",
       "      <td>0.036</td>\n",
       "      <td>7.643</td>\n",
       "      <td>7.500</td>\n",
       "      <td>11.117</td>\n",
       "      <td>0.942</td>\n",
       "      <td>74.4</td>\n",
       "      <td>0.919</td>\n",
       "      <td>0.025</td>\n",
       "      <td>0.292</td>\n",
       "      <td>2.43</td>\n",
       "      <td>1.566</td>\n",
       "      <td>1.079</td>\n",
       "      <td>0.816</td>\n",
       "      <td>0.653</td>\n",
       "      <td>0.204</td>\n",
       "      <td>0.413</td>\n",
       "      <td>2.839</td>\n",
       "    </tr>\n",
       "    <tr>\n",
       "      <td>3</td>\n",
       "      <td>Iceland</td>\n",
       "      <td>Western Europe</td>\n",
       "      <td>7.554</td>\n",
       "      <td>0.059</td>\n",
       "      <td>7.670</td>\n",
       "      <td>7.438</td>\n",
       "      <td>10.878</td>\n",
       "      <td>0.983</td>\n",
       "      <td>73.0</td>\n",
       "      <td>0.955</td>\n",
       "      <td>0.160</td>\n",
       "      <td>0.673</td>\n",
       "      <td>2.43</td>\n",
       "      <td>1.482</td>\n",
       "      <td>1.172</td>\n",
       "      <td>0.772</td>\n",
       "      <td>0.698</td>\n",
       "      <td>0.293</td>\n",
       "      <td>0.170</td>\n",
       "      <td>2.967</td>\n",
       "    </tr>\n",
       "    <tr>\n",
       "      <td>4</td>\n",
       "      <td>Netherlands</td>\n",
       "      <td>Western Europe</td>\n",
       "      <td>7.464</td>\n",
       "      <td>0.027</td>\n",
       "      <td>7.518</td>\n",
       "      <td>7.410</td>\n",
       "      <td>10.932</td>\n",
       "      <td>0.942</td>\n",
       "      <td>72.4</td>\n",
       "      <td>0.913</td>\n",
       "      <td>0.175</td>\n",
       "      <td>0.338</td>\n",
       "      <td>2.43</td>\n",
       "      <td>1.501</td>\n",
       "      <td>1.079</td>\n",
       "      <td>0.753</td>\n",
       "      <td>0.647</td>\n",
       "      <td>0.302</td>\n",
       "      <td>0.384</td>\n",
       "      <td>2.798</td>\n",
       "    </tr>\n",
       "  </tbody>\n",
       "</table>\n",
       "</div>"
      ],
      "text/plain": [
       "  Country name Regional indicator  Ladder score  \\\n",
       "0      Finland     Western Europe         7.842   \n",
       "1      Denmark     Western Europe         7.620   \n",
       "2  Switzerland     Western Europe         7.571   \n",
       "3      Iceland     Western Europe         7.554   \n",
       "4  Netherlands     Western Europe         7.464   \n",
       "\n",
       "   Standard error of ladder score  upperwhisker  lowerwhisker  \\\n",
       "0                           0.032         7.904         7.780   \n",
       "1                           0.035         7.687         7.552   \n",
       "2                           0.036         7.643         7.500   \n",
       "3                           0.059         7.670         7.438   \n",
       "4                           0.027         7.518         7.410   \n",
       "\n",
       "   Logged GDP per capita  Social support  Healthy life expectancy  \\\n",
       "0                 10.775           0.954                     72.0   \n",
       "1                 10.933           0.954                     72.7   \n",
       "2                 11.117           0.942                     74.4   \n",
       "3                 10.878           0.983                     73.0   \n",
       "4                 10.932           0.942                     72.4   \n",
       "\n",
       "   Freedom to make life choices  Generosity  Perceptions of corruption  \\\n",
       "0                         0.949      -0.098                      0.186   \n",
       "1                         0.946       0.030                      0.179   \n",
       "2                         0.919       0.025                      0.292   \n",
       "3                         0.955       0.160                      0.673   \n",
       "4                         0.913       0.175                      0.338   \n",
       "\n",
       "   Ladder score in Dystopia  Explained by: Log GDP per capita  \\\n",
       "0                      2.43                             1.446   \n",
       "1                      2.43                             1.502   \n",
       "2                      2.43                             1.566   \n",
       "3                      2.43                             1.482   \n",
       "4                      2.43                             1.501   \n",
       "\n",
       "   Explained by: Social support  Explained by: Healthy life expectancy  \\\n",
       "0                         1.106                                  0.741   \n",
       "1                         1.108                                  0.763   \n",
       "2                         1.079                                  0.816   \n",
       "3                         1.172                                  0.772   \n",
       "4                         1.079                                  0.753   \n",
       "\n",
       "   Explained by: Freedom to make life choices  Explained by: Generosity  \\\n",
       "0                                       0.691                     0.124   \n",
       "1                                       0.686                     0.208   \n",
       "2                                       0.653                     0.204   \n",
       "3                                       0.698                     0.293   \n",
       "4                                       0.647                     0.302   \n",
       "\n",
       "   Explained by: Perceptions of corruption  Dystopia + residual  \n",
       "0                                    0.481                3.253  \n",
       "1                                    0.485                2.868  \n",
       "2                                    0.413                2.839  \n",
       "3                                    0.170                2.967  \n",
       "4                                    0.384                2.798  "
      ]
     },
     "execution_count": 3,
     "metadata": {},
     "output_type": "execute_result"
    }
   ],
   "source": [
    "# Disini kita menggunakan pandas untuk meng-load atau memuat dataset kita \n",
    "# Untuk meng-load atau memuat dataset dengan format csv, kita cukup kita panggil pandas dengan \"pd.read_csv\"\n",
    "# Ketika di muat, file csv ini akan di konversi formatnya menjadi format yang namanya data frame\n",
    "# Data frame ini akan di tampung ke dalam variabel bernama hapiness_df\n",
    "\n",
    "# Load Dataset \n",
    "hapiness_df = pd.read_csv(\"world-happiness-report-2021.csv\")\n",
    "hapiness_df.head() # untuk menampilkan 5 baris pertama"
   ]
  },
  {
   "cell_type": "code",
   "execution_count": 4,
   "metadata": {},
   "outputs": [
    {
     "name": "stdout",
     "output_type": "stream",
     "text": [
      "<class 'pandas.core.frame.DataFrame'>\n",
      "RangeIndex: 149 entries, 0 to 148\n",
      "Data columns (total 20 columns):\n",
      "Country name                                  149 non-null object\n",
      "Regional indicator                            149 non-null object\n",
      "Ladder score                                  149 non-null float64\n",
      "Standard error of ladder score                149 non-null float64\n",
      "upperwhisker                                  149 non-null float64\n",
      "lowerwhisker                                  149 non-null float64\n",
      "Logged GDP per capita                         149 non-null float64\n",
      "Social support                                149 non-null float64\n",
      "Healthy life expectancy                       149 non-null float64\n",
      "Freedom to make life choices                  149 non-null float64\n",
      "Generosity                                    149 non-null float64\n",
      "Perceptions of corruption                     149 non-null float64\n",
      "Ladder score in Dystopia                      149 non-null float64\n",
      "Explained by: Log GDP per capita              149 non-null float64\n",
      "Explained by: Social support                  149 non-null float64\n",
      "Explained by: Healthy life expectancy         149 non-null float64\n",
      "Explained by: Freedom to make life choices    149 non-null float64\n",
      "Explained by: Generosity                      149 non-null float64\n",
      "Explained by: Perceptions of corruption       149 non-null float64\n",
      "Dystopia + residual                           149 non-null float64\n",
      "dtypes: float64(18), object(2)\n",
      "memory usage: 23.4+ KB\n"
     ]
    }
   ],
   "source": [
    "# Untuk menampilkan informasi dataset\n",
    "hapiness_df.info()"
   ]
  },
  {
   "cell_type": "markdown",
   "metadata": {},
   "source": [
    "Disini terdapat 149 entries atau 149 baris.\n",
    "Terdapat 20 kolom "
   ]
  },
  {
   "cell_type": "code",
   "execution_count": 5,
   "metadata": {},
   "outputs": [
    {
     "data": {
      "text/plain": [
       "(149, 20)"
      ]
     },
     "execution_count": 5,
     "metadata": {},
     "output_type": "execute_result"
    }
   ],
   "source": [
    "# Untuk mengetahui dan mencari tau bentuk/dimensi dataset (jumlah baris, kolom)\n",
    "# Dataset ini terdiri dari 149 baris dan 20 kolom\n",
    "\n",
    "hapiness_df.shape "
   ]
  },
  {
   "cell_type": "code",
   "execution_count": 6,
   "metadata": {},
   "outputs": [
    {
     "data": {
      "text/plain": [
       "Country name                                   object\n",
       "Regional indicator                             object\n",
       "Ladder score                                  float64\n",
       "Standard error of ladder score                float64\n",
       "upperwhisker                                  float64\n",
       "lowerwhisker                                  float64\n",
       "Logged GDP per capita                         float64\n",
       "Social support                                float64\n",
       "Healthy life expectancy                       float64\n",
       "Freedom to make life choices                  float64\n",
       "Generosity                                    float64\n",
       "Perceptions of corruption                     float64\n",
       "Ladder score in Dystopia                      float64\n",
       "Explained by: Log GDP per capita              float64\n",
       "Explained by: Social support                  float64\n",
       "Explained by: Healthy life expectancy         float64\n",
       "Explained by: Freedom to make life choices    float64\n",
       "Explained by: Generosity                      float64\n",
       "Explained by: Perceptions of corruption       float64\n",
       "Dystopia + residual                           float64\n",
       "dtype: object"
      ]
     },
     "execution_count": 6,
     "metadata": {},
     "output_type": "execute_result"
    }
   ],
   "source": [
    "#Check types for all the columns\n",
    "hapiness_df.dtypes\n",
    "\n",
    "# digunakan untuk mengecek masing-masing datanya \n",
    "# biasanya di pandas, biasanya yang selain numeric itu diberikan objek tipe datanya"
   ]
  },
  {
   "cell_type": "code",
   "execution_count": 7,
   "metadata": {},
   "outputs": [
    {
     "data": {
      "text/plain": [
       "False    149\n",
       "dtype: int64"
      ]
     },
     "execution_count": 7,
     "metadata": {},
     "output_type": "execute_result"
    }
   ],
   "source": [
    "# Melihat jumlah duplikasi data, dan disini hasilnya adalah false yang menandakan tidak ada duplikasi data\n",
    "hapiness_df.duplicated().value_counts()"
   ]
  },
  {
   "cell_type": "markdown",
   "metadata": {},
   "source": [
    "<h2>Visualisasi Data<h2>"
   ]
  },
  {
   "cell_type": "code",
   "execution_count": 8,
   "metadata": {},
   "outputs": [],
   "source": [
    "import matplotlib.pyplot as plt\n",
    "from matplotlib import pyplot\n",
    "import seaborn as sns"
   ]
  },
  {
   "cell_type": "markdown",
   "metadata": {},
   "source": [
    "Untuk visualisasi data pada kasus kita kali ini, kita akan memanfaatkan dua modul, modul yang pertama adalah matplotlib dan yang kedua adalah seaborn."
   ]
  },
  {
   "cell_type": "code",
   "execution_count": 9,
   "metadata": {},
   "outputs": [
    {
     "data": {
      "text/plain": [
       "<matplotlib.axes._subplots.AxesSubplot at 0x18047165948>"
      ]
     },
     "execution_count": 9,
     "metadata": {},
     "output_type": "execute_result"
    },
    {
     "data": {
      "image/png": "[encoded data removed]",
      "text/plain": [
       "<Figure size 432x288 with 2 Axes>"
      ]
     },
     "metadata": {
      "needs_background": "light"
     },
     "output_type": "display_data"
    }
   ],
   "source": [
    "# Heatmap\n",
    "# Visualisasi pertama yang saya gunakan adalah heatmap, dimana heatmap ini termasuk\n",
    "# visualisasi yang cocok untuk menvisualisasikan korelasi matriknya.\n",
    "\n",
    "# Parameternya adalah data\n",
    "# Data yang kita masukan untuk di visualisasikan adalah dari hasil korelasi matriksnya.\n",
    "\n",
    "sns.heatmap(data=hapiness_df.corr())"
   ]
  },
  {
   "cell_type": "markdown",
   "metadata": {},
   "source": [
    "Ini adalah hasil dari visualisasinya, jadi disini di representasikan dengan warna. Semakin gelap warna merepresentasikan nilai korelasi yang makin kecil, sedangkan ketika warnanya makin terang maka nilai korelasinya makin tinggi."
   ]
  },
  {
   "cell_type": "code",
   "execution_count": 10,
   "metadata": {},
   "outputs": [
    {
     "data": {
      "text/plain": [
       "<matplotlib.axes._subplots.AxesSubplot at 0x18047542308>"
      ]
     },
     "execution_count": 10,
     "metadata": {},
     "output_type": "execute_result"
    },
    {
     "data": {
      "image/png": "[encoded data removed]",
      "text/plain": [
       "<Figure size 1080x1080 with 2 Axes>"
      ]
     },
     "metadata": {
      "needs_background": "light"
     },
     "output_type": "display_data"
    }
   ],
   "source": [
    "plt.figure(figsize=(15,15))\n",
    "sns.heatmap(hapiness_df.corr(), annot=True)"
   ]
  },
  {
   "cell_type": "code",
   "execution_count": 11,
   "metadata": {},
   "outputs": [
    {
     "data": {
      "text/plain": [
       "Sub-Saharan Africa                    36\n",
       "Western Europe                        21\n",
       "Latin America and Caribbean           20\n",
       "Central and Eastern Europe            17\n",
       "Middle East and North Africa          17\n",
       "Commonwealth of Independent States    12\n",
       "Southeast Asia                         9\n",
       "South Asia                             7\n",
       "East Asia                              6\n",
       "North America and ANZ                  4\n",
       "Name: Regional indicator, dtype: int64"
      ]
     },
     "execution_count": 11,
     "metadata": {},
     "output_type": "execute_result"
    }
   ],
   "source": [
    "# Bar Plot\n",
    "# Di dalam dataframe kita itu ada regional indicator, dan kita mau cari tahu ada berapa jumlah\n",
    "# dari setiap regional indicator di dalam dataframe kita.\n",
    "\n",
    "hapiness_df['Regional indicator'].value_counts()"
   ]
  },
  {
   "cell_type": "markdown",
   "metadata": {},
   "source": [
    "Total regional indicatornya ada 9, yaitu : <br>\n",
    "1. Western Europe dengan jumlah 36 data\n",
    "2. dst\n",
    "\n",
    "Data ini dapat di visualisasikan dengan cara memanfaatkan Bar Plot. <br>\n",
    "Caranya adalah :"
   ]
  },
  {
   "cell_type": "code",
   "execution_count": 12,
   "metadata": {},
   "outputs": [
    {
     "data": {
      "text/plain": [
       "<function matplotlib.pyplot.show(*args, **kw)>"
      ]
     },
     "execution_count": 12,
     "metadata": {},
     "output_type": "execute_result"
    },
    {
     "data": {
      "image/png": "[encoded data removed]",
      "text/plain": [
       "<Figure size 432x288 with 1 Axes>"
      ]
     },
     "metadata": {
      "needs_background": "light"
     },
     "output_type": "display_data"
    }
   ],
   "source": [
    "# Kita panggil datasetnya lalu di ikuti dengan .plot.bar\n",
    "hapiness_df['Regional indicator'].value_counts().plot.bar()\n",
    "plt.tight_layout()# untuk memastikan visualisasinya optimum/maksimal \n",
    "plt.show"
   ]
  },
  {
   "cell_type": "markdown",
   "metadata": {},
   "source": [
    "Hasil visualisasi dengan matplolib <br>\n",
    "Sumbu X = Sub-Saharan Africa, Western Eurpe dll <br>\n",
    "Sumbu Y = 0, 20 => sumbu y nya ber asosiasi dengan jumlah data dari setiap Regional indicatornya."
   ]
  },
  {
   "cell_type": "code",
   "execution_count": 13,
   "metadata": {},
   "outputs": [],
   "source": [
    "# Pair Plot\n",
    "# Visualisasi ini digunakan untuk melihat keseluruhan korelasi antar kolom \n",
    "\n",
    "#sns.pairplot(hapiness_df, hue='Regional indicator')\n",
    "#plt.tight_layout()"
   ]
  },
  {
   "cell_type": "markdown",
   "metadata": {},
   "source": [
    "Jadi, jika kita memanfaatkan pair plot, sebenarnya kita menvisualisasikan yang namanya korelasi matrik tapi dalam bentuk visualisasi."
   ]
  },
  {
   "cell_type": "markdown",
   "metadata": {},
   "source": [
    "# 3. Lakukan data analisis dan juga pengecekan serta pembersihan data dari outlier dan missing data jika diperlukan"
   ]
  },
  {
   "cell_type": "code",
   "execution_count": 14,
   "metadata": {},
   "outputs": [
    {
     "data": {
      "text/plain": [
       "Country name                                  0\n",
       "Regional indicator                            0\n",
       "Ladder score                                  0\n",
       "Standard error of ladder score                0\n",
       "upperwhisker                                  0\n",
       "lowerwhisker                                  0\n",
       "Logged GDP per capita                         0\n",
       "Social support                                0\n",
       "Healthy life expectancy                       0\n",
       "Freedom to make life choices                  0\n",
       "Generosity                                    0\n",
       "Perceptions of corruption                     0\n",
       "Ladder score in Dystopia                      0\n",
       "Explained by: Log GDP per capita              0\n",
       "Explained by: Social support                  0\n",
       "Explained by: Healthy life expectancy         0\n",
       "Explained by: Freedom to make life choices    0\n",
       "Explained by: Generosity                      0\n",
       "Explained by: Perceptions of corruption       0\n",
       "Dystopia + residual                           0\n",
       "dtype: int64"
      ]
     },
     "execution_count": 14,
     "metadata": {},
     "output_type": "execute_result"
    }
   ],
   "source": [
    "# Digunakan untuk mencari tau apakah di dataset kita terdapat missing value atau nilai kosong\n",
    "# digunakan method sum, isnull nya di sum semua dibagian datanya per kolom \n",
    "# Dapat dilihat  tidak ada data yang kosong di dalam dataset yang kita miliki\n",
    "hapiness_df.isnull().sum()"
   ]
  },
  {
   "cell_type": "code",
   "execution_count": 15,
   "metadata": {},
   "outputs": [
    {
     "data": {
      "text/plain": [
       "False"
      ]
     },
     "execution_count": 15,
     "metadata": {},
     "output_type": "execute_result"
    }
   ],
   "source": [
    "# Digunakan untuk mencari tau apakah di dataset kita terdapat missing value atau nilai kosong\n",
    "# jika false berarti tidak terdapat nilai kosong\n",
    "hapiness_df.isna().values.any()"
   ]
  },
  {
   "cell_type": "markdown",
   "metadata": {},
   "source": [
    "# 4. Lakukan pemodelan regresi (linear dan berganda) dan seleksi fitur dengan korelasi agar mendapatkan atribut (variable independent) yang baik untuk digunakan pada model regresi. <br>\n",
    "# 5. Analisa dan jelaskan hasil evaluasi pemodelan regresi."
   ]
  },
  {
   "cell_type": "markdown",
   "metadata": {},
   "source": [
    "<h2>A. Linear Regresi</h2>\n",
    "\n",
    "​\n",
    "$$\n",
    " X: Predictor \\ Variables\\\\\n",
    " Y: Response \\ Variable\n",
    "$$\n",
    "​"
   ]
  },
  {
   "cell_type": "code",
   "execution_count": 16,
   "metadata": {},
   "outputs": [],
   "source": [
    "# Menggunakan linear regression dari objek sklearn.linear_model\n",
    "from sklearn.linear_model import LinearRegression\n",
    "\n",
    "model = LinearRegression()"
   ]
  },
  {
   "cell_type": "code",
   "execution_count": 17,
   "metadata": {},
   "outputs": [
    {
     "name": "stdout",
     "output_type": "stream",
     "text": [
      "x: [0.954 0.954 0.942 0.983 0.942 0.954 0.934 0.908 0.948 0.934 0.94  0.939\n",
      " 0.903 0.926 0.947 0.891 0.934 0.947 0.92  0.906 0.942 0.862 0.931 0.898\n",
      " 0.844 0.891 0.932 0.88  0.948 0.813 0.925 0.915 0.821 0.936 0.882 0.831\n",
      " 0.877 0.935 0.802 0.941 0.896 0.918 0.882 0.898 0.952 0.832 0.843 0.873\n",
      " 0.762 0.905 0.927 0.847 0.943 0.888 0.864 0.884 0.898 0.879 0.812 0.924\n",
      " 0.83  0.799 0.832 0.87  0.857 0.821 0.893 0.823 0.81  0.935 0.893 0.858\n",
      " 0.853 0.82  0.91  0.903 0.836 0.86  0.85  0.827 0.817 0.811 0.636 0.811\n",
      " 0.644 0.799 0.774 0.931 0.913 0.836 0.71  0.71  0.697 0.805 0.727 0.641\n",
      " 0.983 0.69  0.489 0.728 0.693 0.639 0.86  0.822 0.651 0.56  0.861 0.671\n",
      " 0.802 0.888 0.746 0.776 0.672 0.765 0.744 0.74  0.724 0.71  0.781 0.72\n",
      " 0.688 0.691 0.848 0.818 0.826 0.779 0.767 0.619 0.827 0.77  0.626 0.75\n",
      " 0.764 0.795 0.686 0.569 0.708 0.63  0.603 0.49  0.832 0.702 0.54  0.537\n",
      " 0.787 0.784 0.552 0.75  0.463]\n",
      "y: [7.842 7.62  7.571 7.554 7.464 7.392 7.363 7.324 7.277 7.268 7.183 7.157\n",
      " 7.155 7.103 7.085 7.069 7.064 6.965 6.951 6.834 6.69  6.647 6.602 6.584\n",
      " 6.561 6.494 6.491 6.483 6.461 6.435 6.431 6.377 6.372 6.331 6.33  6.317\n",
      " 6.309 6.255 6.223 6.189 6.18  6.179 6.172 6.166 6.152 6.14  6.106 6.078\n",
      " 6.061 6.049 6.032 6.012 5.992 5.985 5.972 5.94  5.929 5.929 5.919 5.882\n",
      " 5.88  5.845 5.84  5.813 5.766 5.764 5.744 5.723 5.716 5.677 5.653 5.581\n",
      " 5.545 5.536 5.534 5.477 5.477 5.466 5.411 5.41  5.384 5.345 5.342 5.339\n",
      " 5.306 5.283 5.269 5.266 5.198 5.171 5.142 5.132 5.117 5.101 5.088 5.074\n",
      " 5.066 5.051 5.045 5.03  5.025 4.984 4.956 4.948 4.934 4.918 4.892 4.891\n",
      " 4.887 4.875 4.854 4.852 4.834 4.83  4.794 4.759 4.723 4.721 4.636 4.625\n",
      " 4.607 4.596 4.584 4.574 4.517 4.426 4.395 4.355 4.325 4.308 4.289 4.283\n",
      " 4.275 4.227 4.208 4.107 4.073 3.849 3.819 3.775 3.658 3.623 3.615 3.6\n",
      " 3.512 3.467 3.415 3.145 2.523]\n"
     ]
    }
   ],
   "source": [
    "x = hapiness_df[['Social support']]\n",
    "y = hapiness_df['Ladder score']\n",
    "\n",
    "x = np.array(hapiness_df['Social support'])\n",
    "y = np.array(hapiness_df['Ladder score'])\n",
    "\n",
    "print(f'x: {x}')\n",
    "print(f'y: {y}')"
   ]
  },
  {
   "cell_type": "markdown",
   "metadata": {},
   "source": [
    "Jika kita perhatikan disini, variabel x yang digunakan untuk menampung nilai Social support hanya terdiri dari 1 dimensi saja. Kita ketahui bahwa model machine learning pada sklearn membutuhkan sekumpulan nilai yang ditampung dalam satu array dua dimensi.\n",
    "Oleh karena itu perlu dilakukan proses reshape terhadap array yang digunakan."
   ]
  },
  {
   "cell_type": "code",
   "execution_count": 18,
   "metadata": {},
   "outputs": [
    {
     "data": {
      "text/plain": [
       "(149, 1)"
      ]
     },
     "execution_count": 18,
     "metadata": {},
     "output_type": "execute_result"
    }
   ],
   "source": [
    "x = x.reshape(-1, 1)\n",
    "y = y.reshape(-1, 1)\n",
    "\n",
    "x.shape\n",
    "y.shape"
   ]
  },
  {
   "cell_type": "code",
   "execution_count": 19,
   "metadata": {},
   "outputs": [
    {
     "data": {
      "text/plain": [
       "LinearRegression(copy_X=True, fit_intercept=True, n_jobs=None, normalize=False)"
      ]
     },
     "execution_count": 19,
     "metadata": {},
     "output_type": "execute_result"
    }
   ],
   "source": [
    "#Digunakan untuk melakukan training, atau mendapatkan input output dari model \n",
    "#yang dihasilkan tergantung metodenya apa.\n",
    "\n",
    "#Objek model ini akan di training dengan menggunakan method fit, method fit\n",
    "#ini akan membutuhkan dua buah parameter yaitu sekumpulan nilai 𝑃𝑟𝑒𝑑𝑖𝑐𝑡𝑜𝑟 𝑉𝑎𝑟𝑖𝑎𝑏𝑙𝑒𝑠\n",
    "#dan sekumpulan nilai 𝑅𝑒𝑠𝑝𝑜𝑛𝑠𝑒 𝑉𝑎𝑟𝑖𝑎𝑏𝑙𝑒 yang sudah di tempatkan di variabel x dan y\n",
    "model.fit(x,y)"
   ]
  },
  {
   "cell_type": "markdown",
   "metadata": {},
   "source": [
    "Visualisasi Linear Regression"
   ]
  },
  {
   "cell_type": "code",
   "execution_count": 20,
   "metadata": {},
   "outputs": [],
   "source": [
    "#perlu di reshape agar menghasilkan array 2 dimensi \n",
    "#nilainya ini akan di tampung ke dalam variabel x_vis, karena pada dasarnya\n",
    "#nilai ini akan kita gunakan sebagai nilai x (𝑃𝑟𝑒𝑑𝑖𝑐𝑡𝑜𝑟 𝑉𝑎𝑟𝑖𝑎𝑏𝑙𝑒𝑠) yang digunakan untuk melakukan visualisasi garis linear\n",
    "x_vis = np.array(hapiness_df['Social support']).reshape(-1, 1)\n",
    "\n",
    "#lalu berikutnya berdasarkan nilai x_vis ini, kita akan melakukan prediksi nilai y\n",
    "#hasil prediksi nya akan di tampung di variabel y_vis\n",
    "y_vis = model.predict(x_vis)\n",
    "#y_vis[0:10]"
   ]
  },
  {
   "cell_type": "code",
   "execution_count": 21,
   "metadata": {},
   "outputs": [
    {
     "data": {
      "text/plain": [
       "<function matplotlib.pyplot.show(*args, **kw)>"
      ]
     },
     "execution_count": 21,
     "metadata": {},
     "output_type": "execute_result"
    },
    {
     "data": {
      "image/png": "[encoded data removed]",
      "text/plain": [
       "<Figure size 432x288 with 1 Axes>"
      ]
     },
     "metadata": {
      "needs_background": "light"
     },
     "output_type": "display_data"
    }
   ],
   "source": [
    "# Berikutnya kita akan melakukan proses visualisasi\n",
    "\n",
    "#Pertama-tama di panggil dulu plt.scatter lalu kita sertakan nilai x dan y dari dataset\n",
    "#dan ini digunakan untuk melakukan ploting yang berwarna biru\n",
    "plt.scatter(x, y)\n",
    "\n",
    "#Lalu selanjutnya dilakukan plt.plot dan menghasilkan garis lurus warna magenta \n",
    "#yang di ploting adalah nilai x_vis dan y_vis \n",
    "plt.plot(x_vis, y_vis, '-r', color='red')\n",
    "\n",
    "plt.title(\"Perbandingan Social support dan Ladder score\")\n",
    "plt.xlabel('Social support')\n",
    "plt.ylabel('Ladder score')\n",
    "plt.grid(True)\n",
    "plt.show"
   ]
  },
  {
   "cell_type": "markdown",
   "metadata": {},
   "source": [
    "Sekarang kita fokus ke garis linearnya, yang berwarna merah. <br>\n",
    "Garis linear yang terbentuk disini akan memiliki formula persamaan yang mengacu pada formula linear regression.<br>\n",
    "Formula Linear Regression : y = α + βx <br>\n",
    "​\n",
    "$$\n",
    " x: Predictor \\ Variables \\ atau\\ Explanatory \\ Variable\\\\\n",
    " y: Response \\ Variable \\ atau\\  Response \\ Variable\\\\\n",
    " α: intercept\\\\\n",
    " β: slope\n",
    "$$\n",
    "​"
   ]
  },
  {
   "cell_type": "code",
   "execution_count": 22,
   "metadata": {},
   "outputs": [
    {
     "name": "stdout",
     "output_type": "stream",
     "text": [
      "[-0.23147896]\n",
      "[[7.07499662]]\n"
     ]
    }
   ],
   "source": [
    "# Digunakan untuk mencari 2 parameter yaitu intercept dan slope\n",
    "model.intercept_\n",
    "model.coef_\n",
    "\n",
    "print(model.intercept_)\n",
    "print(model.coef_)"
   ]
  },
  {
   "cell_type": "markdown",
   "metadata": {},
   "source": [
    "<h2> Analisa dan Jelaskan Hasil Evaluasi single regression</h2>"
   ]
  },
  {
   "cell_type": "code",
   "execution_count": 23,
   "metadata": {},
   "outputs": [],
   "source": [
    "#EVALUASI SIMPLE LINEAR REGRESSION MODEL\n",
    "\n",
    "# Training dan Testing Dataset\n",
    "x_train = np.array(hapiness_df['Social support']).reshape(-1, 1)\n",
    "y_train = np.array(hapiness_df['Ladder score'])\n",
    "\n",
    "x_test = np.array(hapiness_df['Social support']).reshape(-1, 1)\n",
    "y_test = np.array(hapiness_df['Ladder score'])"
   ]
  },
  {
   "cell_type": "code",
   "execution_count": 24,
   "metadata": {},
   "outputs": [
    {
     "data": {
      "text/plain": [
       "LinearRegression(copy_X=True, fit_intercept=True, n_jobs=None, normalize=False)"
      ]
     },
     "execution_count": 24,
     "metadata": {},
     "output_type": "execute_result"
    }
   ],
   "source": [
    "#Training simple linear regression model\n",
    "model = LinearRegression()\n",
    "model.fit(x_train, y_train)"
   ]
  },
  {
   "cell_type": "code",
   "execution_count": 25,
   "metadata": {},
   "outputs": [
    {
     "name": "stdout",
     "output_type": "stream",
     "text": [
      "R-squared: 0.5728789077039034\n"
     ]
    }
   ],
   "source": [
    "#EVALLUASI LINEAR REGRESSION MODEL DENGAN COEFFICIENT OF DETERMINATION ATAU R-SQUARED(R²)\n",
    "\n",
    "#Pertama kita import dulu matriks evaluasinya dengan cara memanggil from sklearn.metrics\n",
    "#yang kita import r2_score\n",
    "from sklearn.metrics import r2_score\n",
    "\n",
    "#Disini dilakukan proses prediksi nilai target dengan menggunakan testing set\n",
    "y_pred = model.predict(x_test)\n",
    "\n",
    "#Digunakan untuk membandingkan nilai \n",
    "r_squared = r2_score(y_test, y_pred)\n",
    "\n",
    "print(f'R-squared: {r_squared}')"
   ]
  },
  {
   "cell_type": "code",
   "execution_count": 26,
   "metadata": {},
   "outputs": [
    {
     "data": {
      "text/plain": [
       "0.5728789077039034"
      ]
     },
     "execution_count": 26,
     "metadata": {},
     "output_type": "execute_result"
    }
   ],
   "source": [
    "#EVALUASI DENGAN Y_VIS NYA\n",
    "r2_score(y, y_vis)"
   ]
  },
  {
   "cell_type": "markdown",
   "metadata": {},
   "source": [
    "Dapat dilihat nilai R-squared nya = 0.5728789077039034, semakin dia mendekati 1 maka dia semakin baik, namun semakin dia menjauhi 1 atau mendekati 0 itu sebenarnya makin buruk."
   ]
  },
  {
   "cell_type": "code",
   "execution_count": 27,
   "metadata": {},
   "outputs": [
    {
     "name": "stdout",
     "output_type": "stream",
     "text": [
      "Atribut Social support\n",
      "-Social support linear regression coef       : [7.07499662]\n",
      "-Social support linear regression intercept  : -0.23147895668665175\n"
     ]
    }
   ],
   "source": [
    "print(\"Atribut Social support\")\n",
    "print('-Social support linear regression coef       :',model.coef_)\n",
    "print('-Social support linear regression intercept  :',model.intercept_)"
   ]
  },
  {
   "cell_type": "markdown",
   "metadata": {},
   "source": [
    "<h2> Metric Evaluation </h2>\n",
    "<h3>Mean Squared Error</h3>"
   ]
  },
  {
   "cell_type": "code",
   "execution_count": 28,
   "metadata": {},
   "outputs": [
    {
     "data": {
      "text/plain": [
       "0.4892977407350085"
      ]
     },
     "execution_count": 28,
     "metadata": {},
     "output_type": "execute_result"
    }
   ],
   "source": [
    "from sklearn.metrics import mean_squared_error\n",
    "mean_squared_error(y, y_vis)"
   ]
  },
  {
   "cell_type": "markdown",
   "metadata": {},
   "source": [
    "Ini digunakan untuk menghitung rata-rata errornya"
   ]
  },
  {
   "cell_type": "markdown",
   "metadata": {},
   "source": [
    "<h3>Mean Absolute Error</h3>"
   ]
  },
  {
   "cell_type": "code",
   "execution_count": 29,
   "metadata": {},
   "outputs": [
    {
     "data": {
      "text/plain": [
       "0.5457107734555731"
      ]
     },
     "execution_count": 29,
     "metadata": {},
     "output_type": "execute_result"
    }
   ],
   "source": [
    "from sklearn.metrics import mean_absolute_error\n",
    "mean_absolute_error(y, y_vis)"
   ]
  },
  {
   "cell_type": "markdown",
   "metadata": {},
   "source": [
    "<h2>Korelasi</h2>"
   ]
  },
  {
   "cell_type": "code",
   "execution_count": 30,
   "metadata": {},
   "outputs": [
    {
     "data": {
      "text/html": [
       "<div>\n",
       "<style scoped>\n",
       "    .dataframe tbody tr th:only-of-type {\n",
       "        vertical-align: middle;\n",
       "    }\n",
       "\n",
       "    .dataframe tbody tr th {\n",
       "        vertical-align: top;\n",
       "    }\n",
       "\n",
       "    .dataframe thead th {\n",
       "        text-align: right;\n",
       "    }\n",
       "</style>\n",
       "<table border=\"1\" class=\"dataframe\">\n",
       "  <thead>\n",
       "    <tr style=\"text-align: right;\">\n",
       "      <th></th>\n",
       "      <th>Ladder score</th>\n",
       "      <th>Standard error of ladder score</th>\n",
       "      <th>upperwhisker</th>\n",
       "      <th>lowerwhisker</th>\n",
       "      <th>Logged GDP per capita</th>\n",
       "      <th>Social support</th>\n",
       "      <th>Healthy life expectancy</th>\n",
       "      <th>Freedom to make life choices</th>\n",
       "      <th>Generosity</th>\n",
       "      <th>Perceptions of corruption</th>\n",
       "      <th>Ladder score in Dystopia</th>\n",
       "      <th>Explained by: Log GDP per capita</th>\n",
       "      <th>Explained by: Social support</th>\n",
       "      <th>Explained by: Healthy life expectancy</th>\n",
       "      <th>Explained by: Freedom to make life choices</th>\n",
       "      <th>Explained by: Generosity</th>\n",
       "      <th>Explained by: Perceptions of corruption</th>\n",
       "      <th>Dystopia + residual</th>\n",
       "    </tr>\n",
       "  </thead>\n",
       "  <tbody>\n",
       "    <tr>\n",
       "      <td>Ladder score</td>\n",
       "      <td>1.000000e+00</td>\n",
       "      <td>-4.707869e-01</td>\n",
       "      <td>9.993471e-01</td>\n",
       "      <td>9.993963e-01</td>\n",
       "      <td>7.897597e-01</td>\n",
       "      <td>7.568876e-01</td>\n",
       "      <td>7.680995e-01</td>\n",
       "      <td>6.077531e-01</td>\n",
       "      <td>-1.779928e-02</td>\n",
       "      <td>-4.211400e-01</td>\n",
       "      <td>-1.975255e-15</td>\n",
       "      <td>7.897447e-01</td>\n",
       "      <td>7.568687e-01</td>\n",
       "      <td>7.681379e-01</td>\n",
       "      <td>6.077929e-01</td>\n",
       "      <td>-1.763104e-02</td>\n",
       "      <td>4.212054e-01</td>\n",
       "      <td>4.920099e-01</td>\n",
       "    </tr>\n",
       "    <tr>\n",
       "      <td>Standard error of ladder score</td>\n",
       "      <td>-4.707869e-01</td>\n",
       "      <td>1.000000e+00</td>\n",
       "      <td>-4.386116e-01</td>\n",
       "      <td>-5.011499e-01</td>\n",
       "      <td>-6.457985e-01</td>\n",
       "      <td>-5.308151e-01</td>\n",
       "      <td>-5.838052e-01</td>\n",
       "      <td>-2.751818e-01</td>\n",
       "      <td>1.383487e-01</td>\n",
       "      <td>2.769974e-01</td>\n",
       "      <td>-4.601633e-17</td>\n",
       "      <td>-6.457764e-01</td>\n",
       "      <td>-5.310096e-01</td>\n",
       "      <td>-5.838058e-01</td>\n",
       "      <td>-2.751708e-01</td>\n",
       "      <td>1.385804e-01</td>\n",
       "      <td>-2.770410e-01</td>\n",
       "      <td>1.368273e-01</td>\n",
       "    </tr>\n",
       "    <tr>\n",
       "      <td>upperwhisker</td>\n",
       "      <td>9.993471e-01</td>\n",
       "      <td>-4.386116e-01</td>\n",
       "      <td>1.000000e+00</td>\n",
       "      <td>9.974888e-01</td>\n",
       "      <td>7.779950e-01</td>\n",
       "      <td>7.492146e-01</td>\n",
       "      <td>7.584551e-01</td>\n",
       "      <td>6.077973e-01</td>\n",
       "      <td>-1.261589e-02</td>\n",
       "      <td>-4.175597e-01</td>\n",
       "      <td>-8.093238e-16</td>\n",
       "      <td>7.779807e-01</td>\n",
       "      <td>7.491875e-01</td>\n",
       "      <td>7.584941e-01</td>\n",
       "      <td>6.078385e-01</td>\n",
       "      <td>-1.243516e-02</td>\n",
       "      <td>4.176242e-01</td>\n",
       "      <td>5.068795e-01</td>\n",
       "    </tr>\n",
       "    <tr>\n",
       "      <td>lowerwhisker</td>\n",
       "      <td>9.993963e-01</td>\n",
       "      <td>-5.011499e-01</td>\n",
       "      <td>9.974888e-01</td>\n",
       "      <td>1.000000e+00</td>\n",
       "      <td>8.000636e-01</td>\n",
       "      <td>7.632987e-01</td>\n",
       "      <td>7.763641e-01</td>\n",
       "      <td>6.069443e-01</td>\n",
       "      <td>-2.279403e-02</td>\n",
       "      <td>-4.239761e-01</td>\n",
       "      <td>-1.092547e-17</td>\n",
       "      <td>8.000480e-01</td>\n",
       "      <td>7.632876e-01</td>\n",
       "      <td>7.764019e-01</td>\n",
       "      <td>6.069829e-01</td>\n",
       "      <td>-2.263809e-02</td>\n",
       "      <td>4.240423e-01</td>\n",
       "      <td>4.772043e-01</td>\n",
       "    </tr>\n",
       "    <tr>\n",
       "      <td>Logged GDP per capita</td>\n",
       "      <td>7.897597e-01</td>\n",
       "      <td>-6.457985e-01</td>\n",
       "      <td>7.779950e-01</td>\n",
       "      <td>8.000636e-01</td>\n",
       "      <td>1.000000e+00</td>\n",
       "      <td>7.852987e-01</td>\n",
       "      <td>8.594606e-01</td>\n",
       "      <td>4.323235e-01</td>\n",
       "      <td>-1.992864e-01</td>\n",
       "      <td>-3.423374e-01</td>\n",
       "      <td>-3.097372e-16</td>\n",
       "      <td>9.999997e-01</td>\n",
       "      <td>7.851744e-01</td>\n",
       "      <td>8.594884e-01</td>\n",
       "      <td>4.323832e-01</td>\n",
       "      <td>-1.995321e-01</td>\n",
       "      <td>3.423323e-01</td>\n",
       "      <td>-4.111918e-02</td>\n",
       "    </tr>\n",
       "    <tr>\n",
       "      <td>Social support</td>\n",
       "      <td>7.568876e-01</td>\n",
       "      <td>-5.308151e-01</td>\n",
       "      <td>7.492146e-01</td>\n",
       "      <td>7.632987e-01</td>\n",
       "      <td>7.852987e-01</td>\n",
       "      <td>1.000000e+00</td>\n",
       "      <td>7.232561e-01</td>\n",
       "      <td>4.829298e-01</td>\n",
       "      <td>-1.149459e-01</td>\n",
       "      <td>-2.032070e-01</td>\n",
       "      <td>-1.119273e-15</td>\n",
       "      <td>7.852872e-01</td>\n",
       "      <td>9.999959e-01</td>\n",
       "      <td>7.232837e-01</td>\n",
       "      <td>4.828956e-01</td>\n",
       "      <td>-1.149134e-01</td>\n",
       "      <td>2.033657e-01</td>\n",
       "      <td>6.680510e-03</td>\n",
       "    </tr>\n",
       "    <tr>\n",
       "      <td>Healthy life expectancy</td>\n",
       "      <td>7.680995e-01</td>\n",
       "      <td>-5.838052e-01</td>\n",
       "      <td>7.584551e-01</td>\n",
       "      <td>7.763641e-01</td>\n",
       "      <td>8.594606e-01</td>\n",
       "      <td>7.232561e-01</td>\n",
       "      <td>1.000000e+00</td>\n",
       "      <td>4.614939e-01</td>\n",
       "      <td>-1.617503e-01</td>\n",
       "      <td>-3.643735e-01</td>\n",
       "      <td>-1.261888e-15</td>\n",
       "      <td>8.594463e-01</td>\n",
       "      <td>7.231547e-01</td>\n",
       "      <td>9.999992e-01</td>\n",
       "      <td>4.614851e-01</td>\n",
       "      <td>-1.617669e-01</td>\n",
       "      <td>3.644519e-01</td>\n",
       "      <td>-2.343290e-02</td>\n",
       "    </tr>\n",
       "    <tr>\n",
       "      <td>Freedom to make life choices</td>\n",
       "      <td>6.077531e-01</td>\n",
       "      <td>-2.751818e-01</td>\n",
       "      <td>6.077973e-01</td>\n",
       "      <td>6.069443e-01</td>\n",
       "      <td>4.323235e-01</td>\n",
       "      <td>4.829298e-01</td>\n",
       "      <td>4.614939e-01</td>\n",
       "      <td>1.000000e+00</td>\n",
       "      <td>1.694374e-01</td>\n",
       "      <td>-4.013630e-01</td>\n",
       "      <td>-2.436425e-15</td>\n",
       "      <td>4.323504e-01</td>\n",
       "      <td>4.830686e-01</td>\n",
       "      <td>4.614541e-01</td>\n",
       "      <td>9.999941e-01</td>\n",
       "      <td>1.695875e-01</td>\n",
       "      <td>4.013717e-01</td>\n",
       "      <td>1.002423e-01</td>\n",
       "    </tr>\n",
       "    <tr>\n",
       "      <td>Generosity</td>\n",
       "      <td>-1.779928e-02</td>\n",
       "      <td>1.383487e-01</td>\n",
       "      <td>-1.261589e-02</td>\n",
       "      <td>-2.279403e-02</td>\n",
       "      <td>-1.992864e-01</td>\n",
       "      <td>-1.149459e-01</td>\n",
       "      <td>-1.617503e-01</td>\n",
       "      <td>1.694374e-01</td>\n",
       "      <td>1.000000e+00</td>\n",
       "      <td>-1.639617e-01</td>\n",
       "      <td>-3.804559e-17</td>\n",
       "      <td>-1.992288e-01</td>\n",
       "      <td>-1.149085e-01</td>\n",
       "      <td>-1.618629e-01</td>\n",
       "      <td>1.692611e-01</td>\n",
       "      <td>9.999938e-01</td>\n",
       "      <td>1.639243e-01</td>\n",
       "      <td>-2.721188e-02</td>\n",
       "    </tr>\n",
       "    <tr>\n",
       "      <td>Perceptions of corruption</td>\n",
       "      <td>-4.211400e-01</td>\n",
       "      <td>2.769974e-01</td>\n",
       "      <td>-4.175597e-01</td>\n",
       "      <td>-4.239761e-01</td>\n",
       "      <td>-3.423374e-01</td>\n",
       "      <td>-2.032070e-01</td>\n",
       "      <td>-3.643735e-01</td>\n",
       "      <td>-4.013630e-01</td>\n",
       "      <td>-1.639617e-01</td>\n",
       "      <td>1.000000e+00</td>\n",
       "      <td>-6.229328e-16</td>\n",
       "      <td>-3.423100e-01</td>\n",
       "      <td>-2.034222e-01</td>\n",
       "      <td>-3.643031e-01</td>\n",
       "      <td>-4.010689e-01</td>\n",
       "      <td>-1.641709e-01</td>\n",
       "      <td>-9.999964e-01</td>\n",
       "      <td>4.478410e-03</td>\n",
       "    </tr>\n",
       "    <tr>\n",
       "      <td>Ladder score in Dystopia</td>\n",
       "      <td>-1.975255e-15</td>\n",
       "      <td>-4.601633e-17</td>\n",
       "      <td>-8.093238e-16</td>\n",
       "      <td>-1.092547e-17</td>\n",
       "      <td>-3.097372e-16</td>\n",
       "      <td>-1.119273e-15</td>\n",
       "      <td>-1.261888e-15</td>\n",
       "      <td>-2.436425e-15</td>\n",
       "      <td>-3.804559e-17</td>\n",
       "      <td>-6.229328e-16</td>\n",
       "      <td>1.000000e+00</td>\n",
       "      <td>-4.839622e-16</td>\n",
       "      <td>4.235784e-16</td>\n",
       "      <td>5.053941e-16</td>\n",
       "      <td>-5.494281e-16</td>\n",
       "      <td>-3.911720e-16</td>\n",
       "      <td>-1.024197e-16</td>\n",
       "      <td>-8.881058e-16</td>\n",
       "    </tr>\n",
       "    <tr>\n",
       "      <td>Explained by: Log GDP per capita</td>\n",
       "      <td>7.897447e-01</td>\n",
       "      <td>-6.457764e-01</td>\n",
       "      <td>7.779807e-01</td>\n",
       "      <td>8.000480e-01</td>\n",
       "      <td>9.999997e-01</td>\n",
       "      <td>7.852872e-01</td>\n",
       "      <td>8.594463e-01</td>\n",
       "      <td>4.323504e-01</td>\n",
       "      <td>-1.992288e-01</td>\n",
       "      <td>-3.423100e-01</td>\n",
       "      <td>-4.839622e-16</td>\n",
       "      <td>1.000000e+00</td>\n",
       "      <td>7.851631e-01</td>\n",
       "      <td>8.594741e-01</td>\n",
       "      <td>4.324098e-01</td>\n",
       "      <td>-1.994742e-01</td>\n",
       "      <td>3.423048e-01</td>\n",
       "      <td>-4.114944e-02</td>\n",
       "    </tr>\n",
       "    <tr>\n",
       "      <td>Explained by: Social support</td>\n",
       "      <td>7.568687e-01</td>\n",
       "      <td>-5.310096e-01</td>\n",
       "      <td>7.491875e-01</td>\n",
       "      <td>7.632876e-01</td>\n",
       "      <td>7.851744e-01</td>\n",
       "      <td>9.999959e-01</td>\n",
       "      <td>7.231547e-01</td>\n",
       "      <td>4.830686e-01</td>\n",
       "      <td>-1.149085e-01</td>\n",
       "      <td>-2.034222e-01</td>\n",
       "      <td>4.235784e-16</td>\n",
       "      <td>7.851631e-01</td>\n",
       "      <td>1.000000e+00</td>\n",
       "      <td>7.231827e-01</td>\n",
       "      <td>4.830346e-01</td>\n",
       "      <td>-1.148768e-01</td>\n",
       "      <td>2.035803e-01</td>\n",
       "      <td>6.687173e-03</td>\n",
       "    </tr>\n",
       "    <tr>\n",
       "      <td>Explained by: Healthy life expectancy</td>\n",
       "      <td>7.681379e-01</td>\n",
       "      <td>-5.838058e-01</td>\n",
       "      <td>7.584941e-01</td>\n",
       "      <td>7.764019e-01</td>\n",
       "      <td>8.594884e-01</td>\n",
       "      <td>7.232837e-01</td>\n",
       "      <td>9.999992e-01</td>\n",
       "      <td>4.614541e-01</td>\n",
       "      <td>-1.618629e-01</td>\n",
       "      <td>-3.643031e-01</td>\n",
       "      <td>5.053941e-16</td>\n",
       "      <td>8.594741e-01</td>\n",
       "      <td>7.231827e-01</td>\n",
       "      <td>1.000000e+00</td>\n",
       "      <td>4.614448e-01</td>\n",
       "      <td>-1.618795e-01</td>\n",
       "      <td>3.643814e-01</td>\n",
       "      <td>-2.334437e-02</td>\n",
       "    </tr>\n",
       "    <tr>\n",
       "      <td>Explained by: Freedom to make life choices</td>\n",
       "      <td>6.077929e-01</td>\n",
       "      <td>-2.751708e-01</td>\n",
       "      <td>6.078385e-01</td>\n",
       "      <td>6.069829e-01</td>\n",
       "      <td>4.323832e-01</td>\n",
       "      <td>4.828956e-01</td>\n",
       "      <td>4.614851e-01</td>\n",
       "      <td>9.999941e-01</td>\n",
       "      <td>1.692611e-01</td>\n",
       "      <td>-4.010689e-01</td>\n",
       "      <td>-5.494281e-16</td>\n",
       "      <td>4.324098e-01</td>\n",
       "      <td>4.830346e-01</td>\n",
       "      <td>4.614448e-01</td>\n",
       "      <td>1.000000e+00</td>\n",
       "      <td>1.694094e-01</td>\n",
       "      <td>4.010776e-01</td>\n",
       "      <td>1.003913e-01</td>\n",
       "    </tr>\n",
       "    <tr>\n",
       "      <td>Explained by: Generosity</td>\n",
       "      <td>-1.763104e-02</td>\n",
       "      <td>1.385804e-01</td>\n",
       "      <td>-1.243516e-02</td>\n",
       "      <td>-2.263809e-02</td>\n",
       "      <td>-1.995321e-01</td>\n",
       "      <td>-1.149134e-01</td>\n",
       "      <td>-1.617669e-01</td>\n",
       "      <td>1.695875e-01</td>\n",
       "      <td>9.999938e-01</td>\n",
       "      <td>-1.641709e-01</td>\n",
       "      <td>-3.911720e-16</td>\n",
       "      <td>-1.994742e-01</td>\n",
       "      <td>-1.148768e-01</td>\n",
       "      <td>-1.618795e-01</td>\n",
       "      <td>1.694094e-01</td>\n",
       "      <td>1.000000e+00</td>\n",
       "      <td>1.641342e-01</td>\n",
       "      <td>-2.678238e-02</td>\n",
       "    </tr>\n",
       "    <tr>\n",
       "      <td>Explained by: Perceptions of corruption</td>\n",
       "      <td>4.212054e-01</td>\n",
       "      <td>-2.770410e-01</td>\n",
       "      <td>4.176242e-01</td>\n",
       "      <td>4.240423e-01</td>\n",
       "      <td>3.423323e-01</td>\n",
       "      <td>2.033657e-01</td>\n",
       "      <td>3.644519e-01</td>\n",
       "      <td>4.013717e-01</td>\n",
       "      <td>1.639243e-01</td>\n",
       "      <td>-9.999964e-01</td>\n",
       "      <td>-1.024197e-16</td>\n",
       "      <td>3.423048e-01</td>\n",
       "      <td>2.035803e-01</td>\n",
       "      <td>3.643814e-01</td>\n",
       "      <td>4.010776e-01</td>\n",
       "      <td>1.641342e-01</td>\n",
       "      <td>1.000000e+00</td>\n",
       "      <td>-4.446189e-03</td>\n",
       "    </tr>\n",
       "    <tr>\n",
       "      <td>Dystopia + residual</td>\n",
       "      <td>4.920099e-01</td>\n",
       "      <td>1.368273e-01</td>\n",
       "      <td>5.068795e-01</td>\n",
       "      <td>4.772043e-01</td>\n",
       "      <td>-4.111918e-02</td>\n",
       "      <td>6.680510e-03</td>\n",
       "      <td>-2.343290e-02</td>\n",
       "      <td>1.002423e-01</td>\n",
       "      <td>-2.721188e-02</td>\n",
       "      <td>4.478410e-03</td>\n",
       "      <td>-8.881058e-16</td>\n",
       "      <td>-4.114944e-02</td>\n",
       "      <td>6.687173e-03</td>\n",
       "      <td>-2.334437e-02</td>\n",
       "      <td>1.003913e-01</td>\n",
       "      <td>-2.678238e-02</td>\n",
       "      <td>-4.446189e-03</td>\n",
       "      <td>1.000000e+00</td>\n",
       "    </tr>\n",
       "  </tbody>\n",
       "</table>\n",
       "</div>"
      ],
      "text/plain": [
       "                                            Ladder score  \\\n",
       "Ladder score                                1.000000e+00   \n",
       "Standard error of ladder score             -4.707869e-01   \n",
       "upperwhisker                                9.993471e-01   \n",
       "lowerwhisker                                9.993963e-01   \n",
       "Logged GDP per capita                       7.897597e-01   \n",
       "Social support                              7.568876e-01   \n",
       "Healthy life expectancy                     7.680995e-01   \n",
       "Freedom to make life choices                6.077531e-01   \n",
       "Generosity                                 -1.779928e-02   \n",
       "Perceptions of corruption                  -4.211400e-01   \n",
       "Ladder score in Dystopia                   -1.975255e-15   \n",
       "Explained by: Log GDP per capita            7.897447e-01   \n",
       "Explained by: Social support                7.568687e-01   \n",
       "Explained by: Healthy life expectancy       7.681379e-01   \n",
       "Explained by: Freedom to make life choices  6.077929e-01   \n",
       "Explained by: Generosity                   -1.763104e-02   \n",
       "Explained by: Perceptions of corruption     4.212054e-01   \n",
       "Dystopia + residual                         4.920099e-01   \n",
       "\n",
       "                                            Standard error of ladder score  \\\n",
       "Ladder score                                                 -4.707869e-01   \n",
       "Standard error of ladder score                                1.000000e+00   \n",
       "upperwhisker                                                 -4.386116e-01   \n",
       "lowerwhisker                                                 -5.011499e-01   \n",
       "Logged GDP per capita                                        -6.457985e-01   \n",
       "Social support                                               -5.308151e-01   \n",
       "Healthy life expectancy                                      -5.838052e-01   \n",
       "Freedom to make life choices                                 -2.751818e-01   \n",
       "Generosity                                                    1.383487e-01   \n",
       "Perceptions of corruption                                     2.769974e-01   \n",
       "Ladder score in Dystopia                                     -4.601633e-17   \n",
       "Explained by: Log GDP per capita                             -6.457764e-01   \n",
       "Explained by: Social support                                 -5.310096e-01   \n",
       "Explained by: Healthy life expectancy                        -5.838058e-01   \n",
       "Explained by: Freedom to make life choices                   -2.751708e-01   \n",
       "Explained by: Generosity                                      1.385804e-01   \n",
       "Explained by: Perceptions of corruption                      -2.770410e-01   \n",
       "Dystopia + residual                                           1.368273e-01   \n",
       "\n",
       "                                            upperwhisker  lowerwhisker  \\\n",
       "Ladder score                                9.993471e-01  9.993963e-01   \n",
       "Standard error of ladder score             -4.386116e-01 -5.011499e-01   \n",
       "upperwhisker                                1.000000e+00  9.974888e-01   \n",
       "lowerwhisker                                9.974888e-01  1.000000e+00   \n",
       "Logged GDP per capita                       7.779950e-01  8.000636e-01   \n",
       "Social support                              7.492146e-01  7.632987e-01   \n",
       "Healthy life expectancy                     7.584551e-01  7.763641e-01   \n",
       "Freedom to make life choices                6.077973e-01  6.069443e-01   \n",
       "Generosity                                 -1.261589e-02 -2.279403e-02   \n",
       "Perceptions of corruption                  -4.175597e-01 -4.239761e-01   \n",
       "Ladder score in Dystopia                   -8.093238e-16 -1.092547e-17   \n",
       "Explained by: Log GDP per capita            7.779807e-01  8.000480e-01   \n",
       "Explained by: Social support                7.491875e-01  7.632876e-01   \n",
       "Explained by: Healthy life expectancy       7.584941e-01  7.764019e-01   \n",
       "Explained by: Freedom to make life choices  6.078385e-01  6.069829e-01   \n",
       "Explained by: Generosity                   -1.243516e-02 -2.263809e-02   \n",
       "Explained by: Perceptions of corruption     4.176242e-01  4.240423e-01   \n",
       "Dystopia + residual                         5.068795e-01  4.772043e-01   \n",
       "\n",
       "                                            Logged GDP per capita  \\\n",
       "Ladder score                                         7.897597e-01   \n",
       "Standard error of ladder score                      -6.457985e-01   \n",
       "upperwhisker                                         7.779950e-01   \n",
       "lowerwhisker                                         8.000636e-01   \n",
       "Logged GDP per capita                                1.000000e+00   \n",
       "Social support                                       7.852987e-01   \n",
       "Healthy life expectancy                              8.594606e-01   \n",
       "Freedom to make life choices                         4.323235e-01   \n",
       "Generosity                                          -1.992864e-01   \n",
       "Perceptions of corruption                           -3.423374e-01   \n",
       "Ladder score in Dystopia                            -3.097372e-16   \n",
       "Explained by: Log GDP per capita                     9.999997e-01   \n",
       "Explained by: Social support                         7.851744e-01   \n",
       "Explained by: Healthy life expectancy                8.594884e-01   \n",
       "Explained by: Freedom to make life choices           4.323832e-01   \n",
       "Explained by: Generosity                            -1.995321e-01   \n",
       "Explained by: Perceptions of corruption              3.423323e-01   \n",
       "Dystopia + residual                                 -4.111918e-02   \n",
       "\n",
       "                                            Social support  \\\n",
       "Ladder score                                  7.568876e-01   \n",
       "Standard error of ladder score               -5.308151e-01   \n",
       "upperwhisker                                  7.492146e-01   \n",
       "lowerwhisker                                  7.632987e-01   \n",
       "Logged GDP per capita                         7.852987e-01   \n",
       "Social support                                1.000000e+00   \n",
       "Healthy life expectancy                       7.232561e-01   \n",
       "Freedom to make life choices                  4.829298e-01   \n",
       "Generosity                                   -1.149459e-01   \n",
       "Perceptions of corruption                    -2.032070e-01   \n",
       "Ladder score in Dystopia                     -1.119273e-15   \n",
       "Explained by: Log GDP per capita              7.852872e-01   \n",
       "Explained by: Social support                  9.999959e-01   \n",
       "Explained by: Healthy life expectancy         7.232837e-01   \n",
       "Explained by: Freedom to make life choices    4.828956e-01   \n",
       "Explained by: Generosity                     -1.149134e-01   \n",
       "Explained by: Perceptions of corruption       2.033657e-01   \n",
       "Dystopia + residual                           6.680510e-03   \n",
       "\n",
       "                                            Healthy life expectancy  \\\n",
       "Ladder score                                           7.680995e-01   \n",
       "Standard error of ladder score                        -5.838052e-01   \n",
       "upperwhisker                                           7.584551e-01   \n",
       "lowerwhisker                                           7.763641e-01   \n",
       "Logged GDP per capita                                  8.594606e-01   \n",
       "Social support                                         7.232561e-01   \n",
       "Healthy life expectancy                                1.000000e+00   \n",
       "Freedom to make life choices                           4.614939e-01   \n",
       "Generosity                                            -1.617503e-01   \n",
       "Perceptions of corruption                             -3.643735e-01   \n",
       "Ladder score in Dystopia                              -1.261888e-15   \n",
       "Explained by: Log GDP per capita                       8.594463e-01   \n",
       "Explained by: Social support                           7.231547e-01   \n",
       "Explained by: Healthy life expectancy                  9.999992e-01   \n",
       "Explained by: Freedom to make life choices             4.614851e-01   \n",
       "Explained by: Generosity                              -1.617669e-01   \n",
       "Explained by: Perceptions of corruption                3.644519e-01   \n",
       "Dystopia + residual                                   -2.343290e-02   \n",
       "\n",
       "                                            Freedom to make life choices  \\\n",
       "Ladder score                                                6.077531e-01   \n",
       "Standard error of ladder score                             -2.751818e-01   \n",
       "upperwhisker                                                6.077973e-01   \n",
       "lowerwhisker                                                6.069443e-01   \n",
       "Logged GDP per capita                                       4.323235e-01   \n",
       "Social support                                              4.829298e-01   \n",
       "Healthy life expectancy                                     4.614939e-01   \n",
       "Freedom to make life choices                                1.000000e+00   \n",
       "Generosity                                                  1.694374e-01   \n",
       "Perceptions of corruption                                  -4.013630e-01   \n",
       "Ladder score in Dystopia                                   -2.436425e-15   \n",
       "Explained by: Log GDP per capita                            4.323504e-01   \n",
       "Explained by: Social support                                4.830686e-01   \n",
       "Explained by: Healthy life expectancy                       4.614541e-01   \n",
       "Explained by: Freedom to make life choices                  9.999941e-01   \n",
       "Explained by: Generosity                                    1.695875e-01   \n",
       "Explained by: Perceptions of corruption                     4.013717e-01   \n",
       "Dystopia + residual                                         1.002423e-01   \n",
       "\n",
       "                                              Generosity  \\\n",
       "Ladder score                               -1.779928e-02   \n",
       "Standard error of ladder score              1.383487e-01   \n",
       "upperwhisker                               -1.261589e-02   \n",
       "lowerwhisker                               -2.279403e-02   \n",
       "Logged GDP per capita                      -1.992864e-01   \n",
       "Social support                             -1.149459e-01   \n",
       "Healthy life expectancy                    -1.617503e-01   \n",
       "Freedom to make life choices                1.694374e-01   \n",
       "Generosity                                  1.000000e+00   \n",
       "Perceptions of corruption                  -1.639617e-01   \n",
       "Ladder score in Dystopia                   -3.804559e-17   \n",
       "Explained by: Log GDP per capita           -1.992288e-01   \n",
       "Explained by: Social support               -1.149085e-01   \n",
       "Explained by: Healthy life expectancy      -1.618629e-01   \n",
       "Explained by: Freedom to make life choices  1.692611e-01   \n",
       "Explained by: Generosity                    9.999938e-01   \n",
       "Explained by: Perceptions of corruption     1.639243e-01   \n",
       "Dystopia + residual                        -2.721188e-02   \n",
       "\n",
       "                                            Perceptions of corruption  \\\n",
       "Ladder score                                            -4.211400e-01   \n",
       "Standard error of ladder score                           2.769974e-01   \n",
       "upperwhisker                                            -4.175597e-01   \n",
       "lowerwhisker                                            -4.239761e-01   \n",
       "Logged GDP per capita                                   -3.423374e-01   \n",
       "Social support                                          -2.032070e-01   \n",
       "Healthy life expectancy                                 -3.643735e-01   \n",
       "Freedom to make life choices                            -4.013630e-01   \n",
       "Generosity                                              -1.639617e-01   \n",
       "Perceptions of corruption                                1.000000e+00   \n",
       "Ladder score in Dystopia                                -6.229328e-16   \n",
       "Explained by: Log GDP per capita                        -3.423100e-01   \n",
       "Explained by: Social support                            -2.034222e-01   \n",
       "Explained by: Healthy life expectancy                   -3.643031e-01   \n",
       "Explained by: Freedom to make life choices              -4.010689e-01   \n",
       "Explained by: Generosity                                -1.641709e-01   \n",
       "Explained by: Perceptions of corruption                 -9.999964e-01   \n",
       "Dystopia + residual                                      4.478410e-03   \n",
       "\n",
       "                                            Ladder score in Dystopia  \\\n",
       "Ladder score                                           -1.975255e-15   \n",
       "Standard error of ladder score                         -4.601633e-17   \n",
       "upperwhisker                                           -8.093238e-16   \n",
       "lowerwhisker                                           -1.092547e-17   \n",
       "Logged GDP per capita                                  -3.097372e-16   \n",
       "Social support                                         -1.119273e-15   \n",
       "Healthy life expectancy                                -1.261888e-15   \n",
       "Freedom to make life choices                           -2.436425e-15   \n",
       "Generosity                                             -3.804559e-17   \n",
       "Perceptions of corruption                              -6.229328e-16   \n",
       "Ladder score in Dystopia                                1.000000e+00   \n",
       "Explained by: Log GDP per capita                       -4.839622e-16   \n",
       "Explained by: Social support                            4.235784e-16   \n",
       "Explained by: Healthy life expectancy                   5.053941e-16   \n",
       "Explained by: Freedom to make life choices             -5.494281e-16   \n",
       "Explained by: Generosity                               -3.911720e-16   \n",
       "Explained by: Perceptions of corruption                -1.024197e-16   \n",
       "Dystopia + residual                                    -8.881058e-16   \n",
       "\n",
       "                                            Explained by: Log GDP per capita  \\\n",
       "Ladder score                                                    7.897447e-01   \n",
       "Standard error of ladder score                                 -6.457764e-01   \n",
       "upperwhisker                                                    7.779807e-01   \n",
       "lowerwhisker                                                    8.000480e-01   \n",
       "Logged GDP per capita                                           9.999997e-01   \n",
       "Social support                                                  7.852872e-01   \n",
       "Healthy life expectancy                                         8.594463e-01   \n",
       "Freedom to make life choices                                    4.323504e-01   \n",
       "Generosity                                                     -1.992288e-01   \n",
       "Perceptions of corruption                                      -3.423100e-01   \n",
       "Ladder score in Dystopia                                       -4.839622e-16   \n",
       "Explained by: Log GDP per capita                                1.000000e+00   \n",
       "Explained by: Social support                                    7.851631e-01   \n",
       "Explained by: Healthy life expectancy                           8.594741e-01   \n",
       "Explained by: Freedom to make life choices                      4.324098e-01   \n",
       "Explained by: Generosity                                       -1.994742e-01   \n",
       "Explained by: Perceptions of corruption                         3.423048e-01   \n",
       "Dystopia + residual                                            -4.114944e-02   \n",
       "\n",
       "                                            Explained by: Social support  \\\n",
       "Ladder score                                                7.568687e-01   \n",
       "Standard error of ladder score                             -5.310096e-01   \n",
       "upperwhisker                                                7.491875e-01   \n",
       "lowerwhisker                                                7.632876e-01   \n",
       "Logged GDP per capita                                       7.851744e-01   \n",
       "Social support                                              9.999959e-01   \n",
       "Healthy life expectancy                                     7.231547e-01   \n",
       "Freedom to make life choices                                4.830686e-01   \n",
       "Generosity                                                 -1.149085e-01   \n",
       "Perceptions of corruption                                  -2.034222e-01   \n",
       "Ladder score in Dystopia                                    4.235784e-16   \n",
       "Explained by: Log GDP per capita                            7.851631e-01   \n",
       "Explained by: Social support                                1.000000e+00   \n",
       "Explained by: Healthy life expectancy                       7.231827e-01   \n",
       "Explained by: Freedom to make life choices                  4.830346e-01   \n",
       "Explained by: Generosity                                   -1.148768e-01   \n",
       "Explained by: Perceptions of corruption                     2.035803e-01   \n",
       "Dystopia + residual                                         6.687173e-03   \n",
       "\n",
       "                                            Explained by: Healthy life expectancy  \\\n",
       "Ladder score                                                         7.681379e-01   \n",
       "Standard error of ladder score                                      -5.838058e-01   \n",
       "upperwhisker                                                         7.584941e-01   \n",
       "lowerwhisker                                                         7.764019e-01   \n",
       "Logged GDP per capita                                                8.594884e-01   \n",
       "Social support                                                       7.232837e-01   \n",
       "Healthy life expectancy                                              9.999992e-01   \n",
       "Freedom to make life choices                                         4.614541e-01   \n",
       "Generosity                                                          -1.618629e-01   \n",
       "Perceptions of corruption                                           -3.643031e-01   \n",
       "Ladder score in Dystopia                                             5.053941e-16   \n",
       "Explained by: Log GDP per capita                                     8.594741e-01   \n",
       "Explained by: Social support                                         7.231827e-01   \n",
       "Explained by: Healthy life expectancy                                1.000000e+00   \n",
       "Explained by: Freedom to make life choices                           4.614448e-01   \n",
       "Explained by: Generosity                                            -1.618795e-01   \n",
       "Explained by: Perceptions of corruption                              3.643814e-01   \n",
       "Dystopia + residual                                                 -2.334437e-02   \n",
       "\n",
       "                                            Explained by: Freedom to make life choices  \\\n",
       "Ladder score                                                              6.077929e-01   \n",
       "Standard error of ladder score                                           -2.751708e-01   \n",
       "upperwhisker                                                              6.078385e-01   \n",
       "lowerwhisker                                                              6.069829e-01   \n",
       "Logged GDP per capita                                                     4.323832e-01   \n",
       "Social support                                                            4.828956e-01   \n",
       "Healthy life expectancy                                                   4.614851e-01   \n",
       "Freedom to make life choices                                              9.999941e-01   \n",
       "Generosity                                                                1.692611e-01   \n",
       "Perceptions of corruption                                                -4.010689e-01   \n",
       "Ladder score in Dystopia                                                 -5.494281e-16   \n",
       "Explained by: Log GDP per capita                                          4.324098e-01   \n",
       "Explained by: Social support                                              4.830346e-01   \n",
       "Explained by: Healthy life expectancy                                     4.614448e-01   \n",
       "Explained by: Freedom to make life choices                                1.000000e+00   \n",
       "Explained by: Generosity                                                  1.694094e-01   \n",
       "Explained by: Perceptions of corruption                                   4.010776e-01   \n",
       "Dystopia + residual                                                       1.003913e-01   \n",
       "\n",
       "                                            Explained by: Generosity  \\\n",
       "Ladder score                                           -1.763104e-02   \n",
       "Standard error of ladder score                          1.385804e-01   \n",
       "upperwhisker                                           -1.243516e-02   \n",
       "lowerwhisker                                           -2.263809e-02   \n",
       "Logged GDP per capita                                  -1.995321e-01   \n",
       "Social support                                         -1.149134e-01   \n",
       "Healthy life expectancy                                -1.617669e-01   \n",
       "Freedom to make life choices                            1.695875e-01   \n",
       "Generosity                                              9.999938e-01   \n",
       "Perceptions of corruption                              -1.641709e-01   \n",
       "Ladder score in Dystopia                               -3.911720e-16   \n",
       "Explained by: Log GDP per capita                       -1.994742e-01   \n",
       "Explained by: Social support                           -1.148768e-01   \n",
       "Explained by: Healthy life expectancy                  -1.618795e-01   \n",
       "Explained by: Freedom to make life choices              1.694094e-01   \n",
       "Explained by: Generosity                                1.000000e+00   \n",
       "Explained by: Perceptions of corruption                 1.641342e-01   \n",
       "Dystopia + residual                                    -2.678238e-02   \n",
       "\n",
       "                                            Explained by: Perceptions of corruption  \\\n",
       "Ladder score                                                           4.212054e-01   \n",
       "Standard error of ladder score                                        -2.770410e-01   \n",
       "upperwhisker                                                           4.176242e-01   \n",
       "lowerwhisker                                                           4.240423e-01   \n",
       "Logged GDP per capita                                                  3.423323e-01   \n",
       "Social support                                                         2.033657e-01   \n",
       "Healthy life expectancy                                                3.644519e-01   \n",
       "Freedom to make life choices                                           4.013717e-01   \n",
       "Generosity                                                             1.639243e-01   \n",
       "Perceptions of corruption                                             -9.999964e-01   \n",
       "Ladder score in Dystopia                                              -1.024197e-16   \n",
       "Explained by: Log GDP per capita                                       3.423048e-01   \n",
       "Explained by: Social support                                           2.035803e-01   \n",
       "Explained by: Healthy life expectancy                                  3.643814e-01   \n",
       "Explained by: Freedom to make life choices                             4.010776e-01   \n",
       "Explained by: Generosity                                               1.641342e-01   \n",
       "Explained by: Perceptions of corruption                                1.000000e+00   \n",
       "Dystopia + residual                                                   -4.446189e-03   \n",
       "\n",
       "                                            Dystopia + residual  \n",
       "Ladder score                                       4.920099e-01  \n",
       "Standard error of ladder score                     1.368273e-01  \n",
       "upperwhisker                                       5.068795e-01  \n",
       "lowerwhisker                                       4.772043e-01  \n",
       "Logged GDP per capita                             -4.111918e-02  \n",
       "Social support                                     6.680510e-03  \n",
       "Healthy life expectancy                           -2.343290e-02  \n",
       "Freedom to make life choices                       1.002423e-01  \n",
       "Generosity                                        -2.721188e-02  \n",
       "Perceptions of corruption                          4.478410e-03  \n",
       "Ladder score in Dystopia                          -8.881058e-16  \n",
       "Explained by: Log GDP per capita                  -4.114944e-02  \n",
       "Explained by: Social support                       6.687173e-03  \n",
       "Explained by: Healthy life expectancy             -2.334437e-02  \n",
       "Explained by: Freedom to make life choices         1.003913e-01  \n",
       "Explained by: Generosity                          -2.678238e-02  \n",
       "Explained by: Perceptions of corruption           -4.446189e-03  \n",
       "Dystopia + residual                                1.000000e+00  "
      ]
     },
     "execution_count": 30,
     "metadata": {},
     "output_type": "execute_result"
    }
   ],
   "source": [
    "# Dapat mencari mana variabel-variabel yang baik\n",
    "# dengan menggunakan korelasi\n",
    "# ini yang disebut dengan fitur selection, dapat digunakan untuk seleksi awal.\n",
    "# sehingga tidak perlu menggunakan semua atribut ini untuk melakukan prediksi.\n",
    "\n",
    "hapiness_df.corr()"
   ]
  },
  {
   "cell_type": "code",
   "execution_count": 31,
   "metadata": {},
   "outputs": [
    {
     "data": {
      "image/png": "[encoded data removed]",
      "text/plain": [
       "<Figure size 432x288 with 2 Axes>"
      ]
     },
     "metadata": {
      "needs_background": "light"
     },
     "output_type": "display_data"
    }
   ],
   "source": [
    "sns.heatmap(hapiness_df.corr());"
   ]
  },
  {
   "cell_type": "markdown",
   "metadata": {},
   "source": [
    "Korelasi negatif itu diwarna hitam. <br>\n",
    "Korelasi positif dihubungkan dengan yang warna putih. "
   ]
  },
  {
   "cell_type": "markdown",
   "metadata": {},
   "source": [
    "<h2>B. Multiple Regresi</h2>\n",
    "\n",
    "Multiple Linear Regression merupakan generalisasi dari Simple Linear Regression yang memungkinkan untuk menggunakan beberapa explanatory variables. <br>\n",
    "\n",
    "$$ \n",
    "Yhat = α + β_1 X_1 + β_2 X_2 + β_3 X_3 + β_n X_n\n",
    "$$\n",
    "\n",
    "<br>\n",
    "Pada Simple Linear Regression kita hanya menggunakan satu 𝑃𝑟𝑒𝑑𝑖𝑐𝑡𝑜𝑟 𝑉𝑎𝑟𝑖𝑎𝑏𝑙𝑒𝑠 untuk melakukan prediksi nilai. <br>\n",
    "Sedangkan pada Multiple Linear Regression kita dapat menggunakan lebih dari satu 𝑃𝑟𝑒𝑑𝑖𝑐𝑡𝑜𝑟 𝑉𝑎𝑟𝑖𝑎𝑏𝑙𝑒𝑠 untuk melakukan prediksi nilai."
   ]
  },
  {
   "cell_type": "code",
   "execution_count": 32,
   "metadata": {},
   "outputs": [
    {
     "data": {
      "text/plain": [
       "LinearRegression(copy_X=True, fit_intercept=True, n_jobs=None, normalize=False)"
      ]
     },
     "execution_count": 32,
     "metadata": {},
     "output_type": "execute_result"
    }
   ],
   "source": [
    "Multi = hapiness_df[['Logged GDP per capita', 'Social support', 'Healthy life expectancy', 'Freedom to make life choices']]\n",
    "model.fit(Multi, hapiness_df['Ladder score'])"
   ]
  },
  {
   "cell_type": "code",
   "execution_count": 33,
   "metadata": {},
   "outputs": [
    {
     "name": "stdout",
     "output_type": "stream",
     "text": [
      "-3.1115663225633323\n"
     ]
    }
   ],
   "source": [
    "model.intercept_\n",
    "print(model.intercept_)"
   ]
  },
  {
   "cell_type": "code",
   "execution_count": 34,
   "metadata": {},
   "outputs": [
    {
     "name": "stdout",
     "output_type": "stream",
     "text": [
      "[0.29181588 2.16586372 0.03307704 2.49816587]\n"
     ]
    }
   ],
   "source": [
    "model.coef_\n",
    "print(model.coef_)"
   ]
  },
  {
   "cell_type": "markdown",
   "metadata": {},
   "source": [
    "<h2> Analisa dan Jelaskan Hasil Evaluasi multiple regression</h2>"
   ]
  },
  {
   "cell_type": "code",
   "execution_count": 35,
   "metadata": {},
   "outputs": [
    {
     "name": "stdout",
     "output_type": "stream",
     "text": [
      "Logged GDP per capita', 'Social support', 'Healthy life expectancy', 'Freedom to make life choices'\n",
      "-Multiple linear regression coef       : [0.29181588 2.16586372 0.03307704 2.49816587]\n",
      "-Multiple linear regression intercept  : -3.1115663225633323\n"
     ]
    }
   ],
   "source": [
    "print(\"Logged GDP per capita', 'Social support', 'Healthy life expectancy', 'Freedom to make life choices'\")\n",
    "print('-Multiple linear regression coef       :',model.coef_)\n",
    "print('-Multiple linear regression intercept  :',model.intercept_)"
   ]
  },
  {
   "cell_type": "markdown",
   "metadata": {},
   "source": [
    "<h2> Metric Evaluation </h2>\n",
    "<h3>Mean Squared Error</h3>"
   ]
  },
  {
   "cell_type": "code",
   "execution_count": 36,
   "metadata": {},
   "outputs": [
    {
     "data": {
      "text/plain": [
       "0.4892977407350085"
      ]
     },
     "execution_count": 36,
     "metadata": {},
     "output_type": "execute_result"
    }
   ],
   "source": [
    "mean_squared_error(y, y_vis)"
   ]
  },
  {
   "cell_type": "markdown",
   "metadata": {},
   "source": [
    "<h3>Mean Absolute Error</h3>"
   ]
  },
  {
   "cell_type": "code",
   "execution_count": 37,
   "metadata": {},
   "outputs": [
    {
     "data": {
      "text/plain": [
       "0.5457107734555731"
      ]
     },
     "execution_count": 37,
     "metadata": {},
     "output_type": "execute_result"
    }
   ],
   "source": [
    "mean_absolute_error(y, y_vis)"
   ]
  },
  {
   "cell_type": "markdown",
   "metadata": {},
   "source": [
    "# 6. Lakukan pemodelan dengan regresi logistik dengan data yang sama dengan cara mentransformasikan variable dependent yang awalnya bernilai continue menjadi categorical (hint: Gunakan Binning Data in Pandas). Contoh: variable dependent harga mobil (bernilai continue) ditransformasikan menjadi harga model Mahal dan Murah (untuk 2 kelas), dan Mahal, Sedang, Murah (untuk 3 kelas). <br>\n",
    "\n",
    "<h2>Regresi Logistik</h2>\n",
    "<h3>Menggunakan Binning Data in Pandas</h3>"
   ]
  },
  {
   "cell_type": "code",
   "execution_count": 38,
   "metadata": {},
   "outputs": [],
   "source": [
    "from sklearn.linear_model import LogisticRegression\n",
    "from sklearn.model_selection import train_test_split"
   ]
  },
  {
   "cell_type": "code",
   "execution_count": 39,
   "metadata": {},
   "outputs": [
    {
     "name": "stdout",
     "output_type": "stream",
     "text": [
      "<class 'pandas.core.frame.DataFrame'>\n",
      "RangeIndex: 149 entries, 0 to 148\n",
      "Data columns (total 20 columns):\n",
      "Country name                                  149 non-null object\n",
      "Regional indicator                            149 non-null object\n",
      "Ladder score                                  149 non-null float64\n",
      "Standard error of ladder score                149 non-null float64\n",
      "upperwhisker                                  149 non-null float64\n",
      "lowerwhisker                                  149 non-null float64\n",
      "Logged GDP per capita                         149 non-null float64\n",
      "Social support                                149 non-null float64\n",
      "Healthy life expectancy                       149 non-null float64\n",
      "Freedom to make life choices                  149 non-null float64\n",
      "Generosity                                    149 non-null float64\n",
      "Perceptions of corruption                     149 non-null float64\n",
      "Ladder score in Dystopia                      149 non-null float64\n",
      "Explained by: Log GDP per capita              149 non-null float64\n",
      "Explained by: Social support                  149 non-null float64\n",
      "Explained by: Healthy life expectancy         149 non-null float64\n",
      "Explained by: Freedom to make life choices    149 non-null float64\n",
      "Explained by: Generosity                      149 non-null float64\n",
      "Explained by: Perceptions of corruption       149 non-null float64\n",
      "Dystopia + residual                           149 non-null float64\n",
      "dtypes: float64(18), object(2)\n",
      "memory usage: 23.4+ KB\n"
     ]
    }
   ],
   "source": [
    "hapiness_df.info()"
   ]
  },
  {
   "cell_type": "code",
   "execution_count": 40,
   "metadata": {},
   "outputs": [
    {
     "data": {
      "text/plain": [
       "0    7.842\n",
       "1    7.620\n",
       "2    7.571\n",
       "3    7.554\n",
       "4    7.464\n",
       "Name: Ladder score, dtype: float64"
      ]
     },
     "execution_count": 40,
     "metadata": {},
     "output_type": "execute_result"
    }
   ],
   "source": [
    "hapiness_df[\"Ladder score\"].head()"
   ]
  },
  {
   "cell_type": "code",
   "execution_count": 41,
   "metadata": {},
   "outputs": [],
   "source": [
    "hapiness_df[\"Ladder score\"].replace(np.nan, -1, inplace=True)\n",
    "hapiness_df[\"Ladder score\"]=hapiness_df[\"Ladder score\"].astype(int, copy=True)\n",
    "hapiness_df[\"Ladder score\"].replace(-1, np.nan, inplace=True)"
   ]
  },
  {
   "cell_type": "code",
   "execution_count": 42,
   "metadata": {},
   "outputs": [
    {
     "data": {
      "text/plain": [
       "array([2.        , 3.66666667, 5.33333333, 7.        ])"
      ]
     },
     "execution_count": 42,
     "metadata": {},
     "output_type": "execute_result"
    }
   ],
   "source": [
    "bins = np.linspace(min(hapiness_df[\"Ladder score\"]), max(hapiness_df[\"Ladder score\"]), 4)\n",
    "bins"
   ]
  },
  {
   "cell_type": "code",
   "execution_count": 43,
   "metadata": {},
   "outputs": [],
   "source": [
    "group_names = ['Kurang', 'Cukup', 'Baik']"
   ]
  },
  {
   "cell_type": "code",
   "execution_count": 44,
   "metadata": {},
   "outputs": [
    {
     "data": {
      "text/html": [
       "<div>\n",
       "<style scoped>\n",
       "    .dataframe tbody tr th:only-of-type {\n",
       "        vertical-align: middle;\n",
       "    }\n",
       "\n",
       "    .dataframe tbody tr th {\n",
       "        vertical-align: top;\n",
       "    }\n",
       "\n",
       "    .dataframe thead th {\n",
       "        text-align: right;\n",
       "    }\n",
       "</style>\n",
       "<table border=\"1\" class=\"dataframe\">\n",
       "  <thead>\n",
       "    <tr style=\"text-align: right;\">\n",
       "      <th></th>\n",
       "      <th>Ladder score</th>\n",
       "      <th>Ladder score-binned</th>\n",
       "    </tr>\n",
       "  </thead>\n",
       "  <tbody>\n",
       "    <tr>\n",
       "      <td>0</td>\n",
       "      <td>7</td>\n",
       "      <td>Baik</td>\n",
       "    </tr>\n",
       "    <tr>\n",
       "      <td>1</td>\n",
       "      <td>7</td>\n",
       "      <td>Baik</td>\n",
       "    </tr>\n",
       "    <tr>\n",
       "      <td>2</td>\n",
       "      <td>7</td>\n",
       "      <td>Baik</td>\n",
       "    </tr>\n",
       "    <tr>\n",
       "      <td>3</td>\n",
       "      <td>7</td>\n",
       "      <td>Baik</td>\n",
       "    </tr>\n",
       "    <tr>\n",
       "      <td>4</td>\n",
       "      <td>7</td>\n",
       "      <td>Baik</td>\n",
       "    </tr>\n",
       "    <tr>\n",
       "      <td>...</td>\n",
       "      <td>...</td>\n",
       "      <td>...</td>\n",
       "    </tr>\n",
       "    <tr>\n",
       "      <td>95</td>\n",
       "      <td>5</td>\n",
       "      <td>Cukup</td>\n",
       "    </tr>\n",
       "    <tr>\n",
       "      <td>96</td>\n",
       "      <td>5</td>\n",
       "      <td>Cukup</td>\n",
       "    </tr>\n",
       "    <tr>\n",
       "      <td>97</td>\n",
       "      <td>5</td>\n",
       "      <td>Cukup</td>\n",
       "    </tr>\n",
       "    <tr>\n",
       "      <td>98</td>\n",
       "      <td>5</td>\n",
       "      <td>Cukup</td>\n",
       "    </tr>\n",
       "    <tr>\n",
       "      <td>99</td>\n",
       "      <td>5</td>\n",
       "      <td>Cukup</td>\n",
       "    </tr>\n",
       "  </tbody>\n",
       "</table>\n",
       "<p>100 rows × 2 columns</p>\n",
       "</div>"
      ],
      "text/plain": [
       "    Ladder score Ladder score-binned\n",
       "0              7                Baik\n",
       "1              7                Baik\n",
       "2              7                Baik\n",
       "3              7                Baik\n",
       "4              7                Baik\n",
       "..           ...                 ...\n",
       "95             5               Cukup\n",
       "96             5               Cukup\n",
       "97             5               Cukup\n",
       "98             5               Cukup\n",
       "99             5               Cukup\n",
       "\n",
       "[100 rows x 2 columns]"
      ]
     },
     "execution_count": 44,
     "metadata": {},
     "output_type": "execute_result"
    }
   ],
   "source": [
    "hapiness_df['Ladder score-binned'] = pd.cut(hapiness_df['Ladder score'], bins, labels=group_names, include_lowest=True )\n",
    "hapiness_df[['Ladder score','Ladder score-binned']].head(100)"
   ]
  },
  {
   "cell_type": "code",
   "execution_count": 45,
   "metadata": {},
   "outputs": [
    {
     "data": {
      "text/plain": [
       "Cukup     85\n",
       "Baik      52\n",
       "Kurang    12\n",
       "Name: Ladder score-binned, dtype: int64"
      ]
     },
     "execution_count": 45,
     "metadata": {},
     "output_type": "execute_result"
    }
   ],
   "source": [
    "hapiness_df[\"Ladder score-binned\"].value_counts()"
   ]
  },
  {
   "cell_type": "code",
   "execution_count": 46,
   "metadata": {},
   "outputs": [
    {
     "data": {
      "text/plain": [
       "Text(0.5, 1.0, 'Ladder score bins')"
      ]
     },
     "execution_count": 46,
     "metadata": {},
     "output_type": "execute_result"
    },
    {
     "data": {
      "image/png": "[encoded data removed]",
      "text/plain": [
       "<Figure size 432x288 with 1 Axes>"
      ]
     },
     "metadata": {
      "needs_background": "light"
     },
     "output_type": "display_data"
    }
   ],
   "source": [
    "import matplotlib as plt\n",
    "pyplot.bar(group_names, hapiness_df[\"Ladder score-binned\"].value_counts())\n",
    "\n",
    "# set x/y labels and plot title\n",
    "plt.pyplot.xlabel(\"Ladder score\")\n",
    "plt.pyplot.ylabel(\"count\")\n",
    "plt.pyplot.title(\"Ladder score bins\")"
   ]
  },
  {
   "cell_type": "markdown",
   "metadata": {},
   "source": [
    "# 7. Analisa dan jelaskan hasil evaluasi pemodelan regresi logistik"
   ]
  },
  {
   "cell_type": "code",
   "execution_count": 47,
   "metadata": {},
   "outputs": [],
   "source": [
    "# Training dan Testing Dataset\n",
    "x_train = np.array(hapiness_df['Social support']).reshape(-1, 1)\n",
    "y_train = np.array(hapiness_df['Ladder score'])\n",
    "\n",
    "x_test = np.array(hapiness_df['Social support']).reshape(-1, 1)\n",
    "y_test = np.array(hapiness_df['Ladder score'])"
   ]
  },
  {
   "cell_type": "code",
   "execution_count": 48,
   "metadata": {},
   "outputs": [
    {
     "name": "stderr",
     "output_type": "stream",
     "text": [
      "E:\\ANACONDA\\lib\\site-packages\\sklearn\\linear_model\\logistic.py:432: FutureWarning: Default solver will be changed to 'lbfgs' in 0.22. Specify a solver to silence this warning.\n",
      "  FutureWarning)\n",
      "E:\\ANACONDA\\lib\\site-packages\\sklearn\\linear_model\\logistic.py:469: FutureWarning: Default multi_class will be changed to 'auto' in 0.22. Specify the multi_class option to silence this warning.\n",
      "  \"this warning.\", FutureWarning)\n"
     ]
    },
    {
     "data": {
      "text/plain": [
       "LogisticRegression(C=1.0, class_weight=None, dual=False, fit_intercept=True,\n",
       "                   intercept_scaling=1, l1_ratio=None, max_iter=100,\n",
       "                   multi_class='warn', n_jobs=None, penalty='l2',\n",
       "                   random_state=None, solver='warn', tol=0.0001, verbose=0,\n",
       "                   warm_start=False)"
      ]
     },
     "execution_count": 48,
     "metadata": {},
     "output_type": "execute_result"
    }
   ],
   "source": [
    "logisticReg = LogisticRegression()\n",
    "logisticReg.fit(x_train, y_train)"
   ]
  },
  {
   "cell_type": "code",
   "execution_count": 49,
   "metadata": {},
   "outputs": [],
   "source": [
    "y_pred=logisticReg.predict(x_test)"
   ]
  },
  {
   "cell_type": "code",
   "execution_count": 50,
   "metadata": {},
   "outputs": [
    {
     "name": "stdout",
     "output_type": "stream",
     "text": [
      "Koefisien          : [[-2.04178703]\n",
      " [-2.07574014]\n",
      " [-1.77809135]\n",
      " [-0.22608704]\n",
      " [ 0.83618373]\n",
      " [ 0.27770608]]\n",
      "intercept          : [-2.18743791 -0.78806765  0.28382732 -0.51367341 -1.79844827 -2.14123607]\n",
      "score              : 0.3221476510067114\n"
     ]
    }
   ],
   "source": [
    "print(f\"Koefisien          : {logisticReg.coef_}\")\n",
    "print(f\"intercept          : {logisticReg.intercept_}\")\n",
    "print(f\"score              : {logisticReg.score(x_test,y_test)}\")"
   ]
  },
  {
   "cell_type": "code",
   "execution_count": null,
   "metadata": {},
   "outputs": [],
   "source": []
  }
 ],
 "metadata": {
  "kernelspec": {
   "display_name": "Python 3",
   "language": "python",
   "name": "python3"
  },
  "language_info": {
   "codemirror_mode": {
    "name": "ipython",
    "version": 3
   },
   "file_extension": ".py",
   "mimetype": "text/x-python",
   "name": "python",
   "nbconvert_exporter": "python",
   "pygments_lexer": "ipython3",
   "version": "3.7.4"
  }
 },
 "nbformat": 4,
 "nbformat_minor": 2
}
